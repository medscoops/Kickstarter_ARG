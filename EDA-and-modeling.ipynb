{
 "cells": [
  {
   "cell_type": "code",
   "execution_count": 134,
   "metadata": {},
   "outputs": [],
   "source": [
    "import pandas as pd\n",
    "import numpy as np\n",
    "import glob\n",
    "import os\n",
    "import warnings\n",
    "warnings.filterwarnings('ignore')"
   ]
  },
  {
   "cell_type": "markdown",
   "metadata": {},
   "source": [
    "# EDA"
   ]
  },
  {
   "cell_type": "code",
   "execution_count": 135,
   "metadata": {},
   "outputs": [],
   "source": [
    "data = pd.read_csv(\"data/data-2/Kickstarter000.csv\")"
   ]
  },
  {
   "cell_type": "code",
   "execution_count": 136,
   "metadata": {},
   "outputs": [
    {
     "data": {
      "text/html": [
       "<div>\n",
       "<style scoped>\n",
       "    .dataframe tbody tr th:only-of-type {\n",
       "        vertical-align: middle;\n",
       "    }\n",
       "\n",
       "    .dataframe tbody tr th {\n",
       "        vertical-align: top;\n",
       "    }\n",
       "\n",
       "    .dataframe thead th {\n",
       "        text-align: right;\n",
       "    }\n",
       "</style>\n",
       "<table border=\"1\" class=\"dataframe\">\n",
       "  <thead>\n",
       "    <tr style=\"text-align: right;\">\n",
       "      <th></th>\n",
       "      <th>backers_count</th>\n",
       "      <th>blurb</th>\n",
       "      <th>category</th>\n",
       "      <th>converted_pledged_amount</th>\n",
       "      <th>country</th>\n",
       "      <th>created_at</th>\n",
       "      <th>creator</th>\n",
       "      <th>currency</th>\n",
       "      <th>currency_symbol</th>\n",
       "      <th>currency_trailing_code</th>\n",
       "      <th>...</th>\n",
       "      <th>slug</th>\n",
       "      <th>source_url</th>\n",
       "      <th>spotlight</th>\n",
       "      <th>staff_pick</th>\n",
       "      <th>state</th>\n",
       "      <th>state_changed_at</th>\n",
       "      <th>static_usd_rate</th>\n",
       "      <th>urls</th>\n",
       "      <th>usd_pledged</th>\n",
       "      <th>usd_type</th>\n",
       "    </tr>\n",
       "  </thead>\n",
       "  <tbody>\n",
       "    <tr>\n",
       "      <th>0</th>\n",
       "      <td>21</td>\n",
       "      <td>2006 was almost 7 years ago.... Can you believ...</td>\n",
       "      <td>{\"id\":43,\"name\":\"Rock\",\"slug\":\"music/rock\",\"po...</td>\n",
       "      <td>802</td>\n",
       "      <td>US</td>\n",
       "      <td>1387659690</td>\n",
       "      <td>{\"id\":1495925645,\"name\":\"Daniel\",\"is_registere...</td>\n",
       "      <td>USD</td>\n",
       "      <td>$</td>\n",
       "      <td>True</td>\n",
       "      <td>...</td>\n",
       "      <td>new-final-round-album</td>\n",
       "      <td>https://www.kickstarter.com/discover/categorie...</td>\n",
       "      <td>True</td>\n",
       "      <td>False</td>\n",
       "      <td>successful</td>\n",
       "      <td>1391899046</td>\n",
       "      <td>1.0</td>\n",
       "      <td>{\"web\":{\"project\":\"https://www.kickstarter.com...</td>\n",
       "      <td>802.0</td>\n",
       "      <td>international</td>\n",
       "    </tr>\n",
       "  </tbody>\n",
       "</table>\n",
       "<p>1 rows × 37 columns</p>\n",
       "</div>"
      ],
      "text/plain": [
       "   backers_count                                              blurb  \\\n",
       "0             21  2006 was almost 7 years ago.... Can you believ...   \n",
       "\n",
       "                                            category  \\\n",
       "0  {\"id\":43,\"name\":\"Rock\",\"slug\":\"music/rock\",\"po...   \n",
       "\n",
       "   converted_pledged_amount country  created_at  \\\n",
       "0                       802      US  1387659690   \n",
       "\n",
       "                                             creator currency currency_symbol  \\\n",
       "0  {\"id\":1495925645,\"name\":\"Daniel\",\"is_registere...      USD               $   \n",
       "\n",
       "   currency_trailing_code  ...                   slug  \\\n",
       "0                    True  ...  new-final-round-album   \n",
       "\n",
       "                                          source_url  spotlight staff_pick  \\\n",
       "0  https://www.kickstarter.com/discover/categorie...       True      False   \n",
       "\n",
       "        state  state_changed_at  static_usd_rate  \\\n",
       "0  successful        1391899046              1.0   \n",
       "\n",
       "                                                urls  usd_pledged  \\\n",
       "0  {\"web\":{\"project\":\"https://www.kickstarter.com...        802.0   \n",
       "\n",
       "        usd_type  \n",
       "0  international  \n",
       "\n",
       "[1 rows x 37 columns]"
      ]
     },
     "execution_count": 136,
     "metadata": {},
     "output_type": "execute_result"
    }
   ],
   "source": [
    "data.head(1)"
   ]
  },
  {
   "cell_type": "code",
   "execution_count": 137,
   "metadata": {},
   "outputs": [
    {
     "data": {
      "text/plain": [
       "'{\"id\":266,\"name\":\"Footwear\",\"slug\":\"fashion/footwear\",\"position\":5,\"parent_id\":9,\"color\":16752598,\"urls\":{\"web\":{\"discover\":\"http://www.kickstarter.com/discover/categories/fashion/footwear\"}}}'"
      ]
     },
     "execution_count": 137,
     "metadata": {},
     "output_type": "execute_result"
    }
   ],
   "source": [
    "# check out colum that looks like json\n",
    "data[\"category\"].iloc[3]"
   ]
  },
  {
   "cell_type": "markdown",
   "metadata": {},
   "source": [
    "## Baseline Model 2.\n"
   ]
  },
  {
   "cell_type": "markdown",
   "metadata": {},
   "source": [
    "### Baseline Model 2 with sample dataset (csv 0)"
   ]
  },
  {
   "cell_type": "code",
   "execution_count": 138,
   "metadata": {},
   "outputs": [
    {
     "name": "stdout",
     "output_type": "stream",
     "text": [
      "<class 'pandas.core.frame.DataFrame'>\n",
      "RangeIndex: 3779 entries, 0 to 3778\n",
      "Data columns (total 37 columns):\n",
      " #   Column                    Non-Null Count  Dtype  \n",
      "---  ------                    --------------  -----  \n",
      " 0   backers_count             3779 non-null   int64  \n",
      " 1   blurb                     3779 non-null   object \n",
      " 2   category                  3779 non-null   object \n",
      " 3   converted_pledged_amount  3779 non-null   int64  \n",
      " 4   country                   3779 non-null   object \n",
      " 5   created_at                3779 non-null   int64  \n",
      " 6   creator                   3779 non-null   object \n",
      " 7   currency                  3779 non-null   object \n",
      " 8   currency_symbol           3779 non-null   object \n",
      " 9   currency_trailing_code    3779 non-null   bool   \n",
      " 10  current_currency          3779 non-null   object \n",
      " 11  deadline                  3779 non-null   int64  \n",
      " 12  disable_communication     3779 non-null   bool   \n",
      " 13  friends                   8 non-null      object \n",
      " 14  fx_rate                   3779 non-null   float64\n",
      " 15  goal                      3779 non-null   float64\n",
      " 16  id                        3779 non-null   int64  \n",
      " 17  is_backing                8 non-null      object \n",
      " 18  is_starrable              3779 non-null   bool   \n",
      " 19  is_starred                8 non-null      object \n",
      " 20  launched_at               3779 non-null   int64  \n",
      " 21  location                  3775 non-null   object \n",
      " 22  name                      3779 non-null   object \n",
      " 23  permissions               8 non-null      object \n",
      " 24  photo                     3779 non-null   object \n",
      " 25  pledged                   3779 non-null   float64\n",
      " 26  profile                   3779 non-null   object \n",
      " 27  slug                      3779 non-null   object \n",
      " 28  source_url                3779 non-null   object \n",
      " 29  spotlight                 3779 non-null   bool   \n",
      " 30  staff_pick                3779 non-null   bool   \n",
      " 31  state                     3779 non-null   object \n",
      " 32  state_changed_at          3779 non-null   int64  \n",
      " 33  static_usd_rate           3779 non-null   float64\n",
      " 34  urls                      3779 non-null   object \n",
      " 35  usd_pledged               3779 non-null   float64\n",
      " 36  usd_type                  3764 non-null   object \n",
      "dtypes: bool(5), float64(5), int64(7), object(20)\n",
      "memory usage: 963.3+ KB\n"
     ]
    }
   ],
   "source": [
    "data.info()\n"
   ]
  },
  {
   "cell_type": "code",
   "execution_count": 139,
   "metadata": {},
   "outputs": [],
   "source": [
    "# We look at fx_rate, goal, state\n",
    "# create dataframe with columns needed for the baseline\n",
    "df_bs = data[[\"goal\", \"fx_rate\", \"state\"]]"
   ]
  },
  {
   "cell_type": "code",
   "execution_count": 140,
   "metadata": {},
   "outputs": [
    {
     "data": {
      "text/html": [
       "<div>\n",
       "<style scoped>\n",
       "    .dataframe tbody tr th:only-of-type {\n",
       "        vertical-align: middle;\n",
       "    }\n",
       "\n",
       "    .dataframe tbody tr th {\n",
       "        vertical-align: top;\n",
       "    }\n",
       "\n",
       "    .dataframe thead th {\n",
       "        text-align: right;\n",
       "    }\n",
       "</style>\n",
       "<table border=\"1\" class=\"dataframe\">\n",
       "  <thead>\n",
       "    <tr style=\"text-align: right;\">\n",
       "      <th></th>\n",
       "      <th>goal</th>\n",
       "      <th>fx_rate</th>\n",
       "      <th>state</th>\n",
       "    </tr>\n",
       "  </thead>\n",
       "  <tbody>\n",
       "    <tr>\n",
       "      <th>0</th>\n",
       "      <td>200.0</td>\n",
       "      <td>1.000000</td>\n",
       "      <td>successful</td>\n",
       "    </tr>\n",
       "    <tr>\n",
       "      <th>1</th>\n",
       "      <td>400.0</td>\n",
       "      <td>1.000000</td>\n",
       "      <td>successful</td>\n",
       "    </tr>\n",
       "    <tr>\n",
       "      <th>2</th>\n",
       "      <td>27224.0</td>\n",
       "      <td>1.000000</td>\n",
       "      <td>successful</td>\n",
       "    </tr>\n",
       "    <tr>\n",
       "      <th>3</th>\n",
       "      <td>40000.0</td>\n",
       "      <td>1.128433</td>\n",
       "      <td>successful</td>\n",
       "    </tr>\n",
       "    <tr>\n",
       "      <th>4</th>\n",
       "      <td>1000.0</td>\n",
       "      <td>1.000000</td>\n",
       "      <td>failed</td>\n",
       "    </tr>\n",
       "  </tbody>\n",
       "</table>\n",
       "</div>"
      ],
      "text/plain": [
       "      goal   fx_rate       state\n",
       "0    200.0  1.000000  successful\n",
       "1    400.0  1.000000  successful\n",
       "2  27224.0  1.000000  successful\n",
       "3  40000.0  1.128433  successful\n",
       "4   1000.0  1.000000      failed"
      ]
     },
     "execution_count": 140,
     "metadata": {},
     "output_type": "execute_result"
    }
   ],
   "source": [
    "df_bs.head()"
   ]
  },
  {
   "cell_type": "code",
   "execution_count": 141,
   "metadata": {},
   "outputs": [
    {
     "name": "stdout",
     "output_type": "stream",
     "text": [
      "<class 'pandas.core.frame.DataFrame'>\n",
      "RangeIndex: 3779 entries, 0 to 3778\n",
      "Data columns (total 3 columns):\n",
      " #   Column   Non-Null Count  Dtype  \n",
      "---  ------   --------------  -----  \n",
      " 0   goal     3779 non-null   float64\n",
      " 1   fx_rate  3779 non-null   float64\n",
      " 2   state    3779 non-null   object \n",
      "dtypes: float64(2), object(1)\n",
      "memory usage: 88.7+ KB\n"
     ]
    }
   ],
   "source": [
    "df_bs.info()"
   ]
  },
  {
   "cell_type": "code",
   "execution_count": 142,
   "metadata": {},
   "outputs": [
    {
     "data": {
      "text/plain": [
       "array(['successful', 'failed', 'live', 'canceled', 'suspended'],\n",
       "      dtype=object)"
      ]
     },
     "execution_count": 142,
     "metadata": {},
     "output_type": "execute_result"
    }
   ],
   "source": [
    "df_bs.state.unique()"
   ]
  },
  {
   "cell_type": "code",
   "execution_count": 143,
   "metadata": {},
   "outputs": [],
   "source": [
    "df_bs.drop(df_bs[df_bs[\"state\"] == \"live\"].index, inplace=True)\n",
    "df_bs.drop(df_bs[df_bs[\"state\"] == \"canceled\"].index, inplace=True)\n",
    "df_bs.drop(df_bs[df_bs[\"state\"] == \"suspended\"].index, inplace=True)"
   ]
  },
  {
   "cell_type": "code",
   "execution_count": 144,
   "metadata": {},
   "outputs": [
    {
     "data": {
      "text/plain": [
       "array(['successful', 'failed'], dtype=object)"
      ]
     },
     "execution_count": 144,
     "metadata": {},
     "output_type": "execute_result"
    }
   ],
   "source": [
    "df_bs.state.unique()"
   ]
  },
  {
   "cell_type": "code",
   "execution_count": 145,
   "metadata": {},
   "outputs": [],
   "source": [
    "df_bs[\"all_usd\"] = df_bs[\"goal\"] * df_bs[\"fx_rate\"]"
   ]
  },
  {
   "cell_type": "code",
   "execution_count": null,
   "metadata": {},
   "outputs": [],
   "source": []
  },
  {
   "cell_type": "code",
   "execution_count": 146,
   "metadata": {},
   "outputs": [
    {
     "data": {
      "text/html": [
       "<div>\n",
       "<style scoped>\n",
       "    .dataframe tbody tr th:only-of-type {\n",
       "        vertical-align: middle;\n",
       "    }\n",
       "\n",
       "    .dataframe tbody tr th {\n",
       "        vertical-align: top;\n",
       "    }\n",
       "\n",
       "    .dataframe thead th {\n",
       "        text-align: right;\n",
       "    }\n",
       "</style>\n",
       "<table border=\"1\" class=\"dataframe\">\n",
       "  <thead>\n",
       "    <tr style=\"text-align: right;\">\n",
       "      <th></th>\n",
       "      <th>goal</th>\n",
       "      <th>fx_rate</th>\n",
       "      <th>state</th>\n",
       "      <th>all_usd</th>\n",
       "    </tr>\n",
       "  </thead>\n",
       "  <tbody>\n",
       "    <tr>\n",
       "      <th>0</th>\n",
       "      <td>200.0</td>\n",
       "      <td>1.000000</td>\n",
       "      <td>successful</td>\n",
       "      <td>200.000</td>\n",
       "    </tr>\n",
       "    <tr>\n",
       "      <th>1</th>\n",
       "      <td>400.0</td>\n",
       "      <td>1.000000</td>\n",
       "      <td>successful</td>\n",
       "      <td>400.000</td>\n",
       "    </tr>\n",
       "    <tr>\n",
       "      <th>2</th>\n",
       "      <td>27224.0</td>\n",
       "      <td>1.000000</td>\n",
       "      <td>successful</td>\n",
       "      <td>27224.000</td>\n",
       "    </tr>\n",
       "    <tr>\n",
       "      <th>3</th>\n",
       "      <td>40000.0</td>\n",
       "      <td>1.128433</td>\n",
       "      <td>successful</td>\n",
       "      <td>45137.302</td>\n",
       "    </tr>\n",
       "    <tr>\n",
       "      <th>4</th>\n",
       "      <td>1000.0</td>\n",
       "      <td>1.000000</td>\n",
       "      <td>failed</td>\n",
       "      <td>1000.000</td>\n",
       "    </tr>\n",
       "  </tbody>\n",
       "</table>\n",
       "</div>"
      ],
      "text/plain": [
       "      goal   fx_rate       state    all_usd\n",
       "0    200.0  1.000000  successful    200.000\n",
       "1    400.0  1.000000  successful    400.000\n",
       "2  27224.0  1.000000  successful  27224.000\n",
       "3  40000.0  1.128433  successful  45137.302\n",
       "4   1000.0  1.000000      failed   1000.000"
      ]
     },
     "execution_count": 146,
     "metadata": {},
     "output_type": "execute_result"
    }
   ],
   "source": [
    "df_bs.head()"
   ]
  },
  {
   "cell_type": "code",
   "execution_count": 147,
   "metadata": {},
   "outputs": [
    {
     "data": {
      "text/html": [
       "<div>\n",
       "<style scoped>\n",
       "    .dataframe tbody tr th:only-of-type {\n",
       "        vertical-align: middle;\n",
       "    }\n",
       "\n",
       "    .dataframe tbody tr th {\n",
       "        vertical-align: top;\n",
       "    }\n",
       "\n",
       "    .dataframe thead th {\n",
       "        text-align: right;\n",
       "    }\n",
       "</style>\n",
       "<table border=\"1\" class=\"dataframe\">\n",
       "  <thead>\n",
       "    <tr style=\"text-align: right;\">\n",
       "      <th></th>\n",
       "      <th>all_usd</th>\n",
       "    </tr>\n",
       "  </thead>\n",
       "  <tbody>\n",
       "    <tr>\n",
       "      <th>count</th>\n",
       "      <td>3.500000e+03</td>\n",
       "    </tr>\n",
       "    <tr>\n",
       "      <th>mean</th>\n",
       "      <td>2.200860e+04</td>\n",
       "    </tr>\n",
       "    <tr>\n",
       "      <th>std</th>\n",
       "      <td>1.313098e+05</td>\n",
       "    </tr>\n",
       "    <tr>\n",
       "      <th>min</th>\n",
       "      <td>7.512245e-01</td>\n",
       "    </tr>\n",
       "    <tr>\n",
       "      <th>25%</th>\n",
       "      <td>1.325680e+03</td>\n",
       "    </tr>\n",
       "    <tr>\n",
       "      <th>50%</th>\n",
       "      <td>4.891480e+03</td>\n",
       "    </tr>\n",
       "    <tr>\n",
       "      <th>75%</th>\n",
       "      <td>1.200000e+04</td>\n",
       "    </tr>\n",
       "    <tr>\n",
       "      <th>max</th>\n",
       "      <td>5.000000e+06</td>\n",
       "    </tr>\n",
       "  </tbody>\n",
       "</table>\n",
       "</div>"
      ],
      "text/plain": [
       "            all_usd\n",
       "count  3.500000e+03\n",
       "mean   2.200860e+04\n",
       "std    1.313098e+05\n",
       "min    7.512245e-01\n",
       "25%    1.325680e+03\n",
       "50%    4.891480e+03\n",
       "75%    1.200000e+04\n",
       "max    5.000000e+06"
      ]
     },
     "execution_count": 147,
     "metadata": {},
     "output_type": "execute_result"
    }
   ],
   "source": [
    "df_bs.drop([\"goal\", \"fx_rate\"], axis=\"columns\", inplace=True)\n",
    "df_bs.describe()"
   ]
  },
  {
   "cell_type": "code",
   "execution_count": 148,
   "metadata": {},
   "outputs": [
    {
     "data": {
      "text/html": [
       "<div>\n",
       "<style scoped>\n",
       "    .dataframe tbody tr th:only-of-type {\n",
       "        vertical-align: middle;\n",
       "    }\n",
       "\n",
       "    .dataframe tbody tr th {\n",
       "        vertical-align: top;\n",
       "    }\n",
       "\n",
       "    .dataframe thead th {\n",
       "        text-align: right;\n",
       "    }\n",
       "</style>\n",
       "<table border=\"1\" class=\"dataframe\">\n",
       "  <thead>\n",
       "    <tr style=\"text-align: right;\">\n",
       "      <th></th>\n",
       "      <th>state</th>\n",
       "      <th>all_usd</th>\n",
       "    </tr>\n",
       "  </thead>\n",
       "  <tbody>\n",
       "    <tr>\n",
       "      <th>0</th>\n",
       "      <td>successful</td>\n",
       "      <td>200.000</td>\n",
       "    </tr>\n",
       "    <tr>\n",
       "      <th>1</th>\n",
       "      <td>successful</td>\n",
       "      <td>400.000</td>\n",
       "    </tr>\n",
       "    <tr>\n",
       "      <th>2</th>\n",
       "      <td>successful</td>\n",
       "      <td>27224.000</td>\n",
       "    </tr>\n",
       "    <tr>\n",
       "      <th>3</th>\n",
       "      <td>successful</td>\n",
       "      <td>45137.302</td>\n",
       "    </tr>\n",
       "    <tr>\n",
       "      <th>4</th>\n",
       "      <td>failed</td>\n",
       "      <td>1000.000</td>\n",
       "    </tr>\n",
       "  </tbody>\n",
       "</table>\n",
       "</div>"
      ],
      "text/plain": [
       "        state    all_usd\n",
       "0  successful    200.000\n",
       "1  successful    400.000\n",
       "2  successful  27224.000\n",
       "3  successful  45137.302\n",
       "4      failed   1000.000"
      ]
     },
     "execution_count": 148,
     "metadata": {},
     "output_type": "execute_result"
    }
   ],
   "source": [
    "df_bs.head()"
   ]
  },
  {
   "cell_type": "code",
   "execution_count": 149,
   "metadata": {},
   "outputs": [
    {
     "data": {
      "text/plain": [
       "<AxesSubplot:>"
      ]
     },
     "execution_count": 149,
     "metadata": {},
     "output_type": "execute_result"
    },
    {
     "data": {
      "image/png": "[encoded data removed]",
      "text/plain": [
       "<Figure size 640x480 with 1 Axes>"
      ]
     },
     "metadata": {},
     "output_type": "display_data"
    }
   ],
   "source": [
    "df_bs.plot(kind=\"box\", x=\"state\", y=\"all_usd\")"
   ]
  },
  {
   "cell_type": "code",
   "execution_count": 150,
   "metadata": {},
   "outputs": [
    {
     "name": "stdout",
     "output_type": "stream",
     "text": [
      "med: 4891.479625, mean: 22008.597004688632\n"
     ]
    }
   ],
   "source": [
    "all_usd_med = df_bs.all_usd.median()\n",
    "all_usd_mean = df_bs.all_usd.mean()\n",
    "print(f\"med: {all_usd_med}, mean: {all_usd_mean}\")"
   ]
  },
  {
   "cell_type": "code",
   "execution_count": 151,
   "metadata": {},
   "outputs": [
    {
     "data": {
      "text/html": [
       "<div>\n",
       "<style scoped>\n",
       "    .dataframe tbody tr th:only-of-type {\n",
       "        vertical-align: middle;\n",
       "    }\n",
       "\n",
       "    .dataframe tbody tr th {\n",
       "        vertical-align: top;\n",
       "    }\n",
       "\n",
       "    .dataframe thead th {\n",
       "        text-align: right;\n",
       "    }\n",
       "</style>\n",
       "<table border=\"1\" class=\"dataframe\">\n",
       "  <thead>\n",
       "    <tr style=\"text-align: right;\">\n",
       "      <th></th>\n",
       "      <th>state</th>\n",
       "      <th>all_usd</th>\n",
       "      <th>above_median</th>\n",
       "      <th>above_mean</th>\n",
       "    </tr>\n",
       "  </thead>\n",
       "  <tbody>\n",
       "    <tr>\n",
       "      <th>0</th>\n",
       "      <td>successful</td>\n",
       "      <td>200.000</td>\n",
       "      <td>0</td>\n",
       "      <td>0</td>\n",
       "    </tr>\n",
       "    <tr>\n",
       "      <th>1</th>\n",
       "      <td>successful</td>\n",
       "      <td>400.000</td>\n",
       "      <td>0</td>\n",
       "      <td>0</td>\n",
       "    </tr>\n",
       "    <tr>\n",
       "      <th>2</th>\n",
       "      <td>successful</td>\n",
       "      <td>27224.000</td>\n",
       "      <td>1</td>\n",
       "      <td>1</td>\n",
       "    </tr>\n",
       "    <tr>\n",
       "      <th>3</th>\n",
       "      <td>successful</td>\n",
       "      <td>45137.302</td>\n",
       "      <td>1</td>\n",
       "      <td>1</td>\n",
       "    </tr>\n",
       "    <tr>\n",
       "      <th>4</th>\n",
       "      <td>failed</td>\n",
       "      <td>1000.000</td>\n",
       "      <td>0</td>\n",
       "      <td>0</td>\n",
       "    </tr>\n",
       "  </tbody>\n",
       "</table>\n",
       "</div>"
      ],
      "text/plain": [
       "        state    all_usd  above_median  above_mean\n",
       "0  successful    200.000             0           0\n",
       "1  successful    400.000             0           0\n",
       "2  successful  27224.000             1           1\n",
       "3  successful  45137.302             1           1\n",
       "4      failed   1000.000             0           0"
      ]
     },
     "execution_count": 151,
     "metadata": {},
     "output_type": "execute_result"
    }
   ],
   "source": [
    "\n",
    "df_bs[\"above_median\"] =  df_bs.all_usd.apply(lambda x: 1 if x > all_usd_med else 0)\n",
    "df_bs[\"above_mean\"] =  df_bs.all_usd.apply(lambda x: 1 if x > all_usd_mean else 0)\n",
    "\n",
    "df_bs.head()\n"
   ]
  },
  {
   "cell_type": "code",
   "execution_count": 152,
   "metadata": {},
   "outputs": [],
   "source": [
    "df_bs[\"state_transformed\"] =  df_bs.state.apply(lambda x: 1 if x == \"successful\" else 0)\n"
   ]
  },
  {
   "cell_type": "code",
   "execution_count": 153,
   "metadata": {},
   "outputs": [
    {
     "name": "stdout",
     "output_type": "stream",
     "text": [
      "Metrics for median: \n",
      "[[ 484  792]\n",
      " [1266  958]]\n",
      "              precision    recall  f1-score   support\n",
      "\n",
      "           0       0.28      0.38      0.32      1276\n",
      "           1       0.55      0.43      0.48      2224\n",
      "\n",
      "    accuracy                           0.41      3500\n",
      "   macro avg       0.41      0.41      0.40      3500\n",
      "weighted avg       0.45      0.41      0.42      3500\n",
      "\n",
      "----------------------------------------------------------------------\n",
      "Metrics for mean: \n",
      "[[ 928  348]\n",
      " [2010  214]]\n",
      "              precision    recall  f1-score   support\n",
      "\n",
      "           0       0.32      0.73      0.44      1276\n",
      "           1       0.38      0.10      0.15      2224\n",
      "\n",
      "    accuracy                           0.33      3500\n",
      "   macro avg       0.35      0.41      0.30      3500\n",
      "weighted avg       0.36      0.33      0.26      3500\n",
      "\n"
     ]
    }
   ],
   "source": [
    "from sklearn.metrics import confusion_matrix, classification_report\n",
    "\n",
    "y_true = df_bs.state_transformed\n",
    "y_pred_med = df_bs.above_median\n",
    "y_pred_mean = df_bs.above_mean\n",
    "\n",
    "print(\"Metrics for median: \")\n",
    "print(confusion_matrix(y_true=y_true, y_pred=y_pred_med))\n",
    "print(classification_report(y_true, y_pred_med))\n",
    "\n",
    "print(\"-------\"*10)\n",
    "print(\"Metrics for mean: \")\n",
    "print(confusion_matrix(y_true=y_true, y_pred=y_pred_mean))\n",
    "print(classification_report(y_true, y_pred_mean))"
   ]
  },
  {
   "cell_type": "markdown",
   "metadata": {},
   "source": [
    "### Baseline Model 2 with full dataset (all csv merged)"
   ]
  },
  {
   "cell_type": "markdown",
   "metadata": {},
   "source": [
    "#### merging all csv files"
   ]
  },
  {
   "cell_type": "code",
   "execution_count": 154,
   "metadata": {},
   "outputs": [
    {
     "data": {
      "text/plain": [
       "['data/data-2/Kickstarter000.csv',\n",
       " 'data/data-2/Kickstarter001.csv',\n",
       " 'data/data-2/Kickstarter002.csv',\n",
       " 'data/data-2/Kickstarter003.csv',\n",
       " 'data/data-2/Kickstarter004.csv',\n",
       " 'data/data-2/Kickstarter005.csv',\n",
       " 'data/data-2/Kickstarter006.csv',\n",
       " 'data/data-2/Kickstarter007.csv',\n",
       " 'data/data-2/Kickstarter008.csv',\n",
       " 'data/data-2/Kickstarter009.csv',\n",
       " 'data/data-2/Kickstarter010.csv',\n",
       " 'data/data-2/Kickstarter011.csv',\n",
       " 'data/data-2/Kickstarter012.csv',\n",
       " 'data/data-2/Kickstarter013.csv',\n",
       " 'data/data-2/Kickstarter014.csv',\n",
       " 'data/data-2/Kickstarter015.csv',\n",
       " 'data/data-2/Kickstarter016.csv',\n",
       " 'data/data-2/Kickstarter017.csv',\n",
       " 'data/data-2/Kickstarter018.csv',\n",
       " 'data/data-2/Kickstarter019.csv',\n",
       " 'data/data-2/Kickstarter020.csv',\n",
       " 'data/data-2/Kickstarter021.csv',\n",
       " 'data/data-2/Kickstarter022.csv',\n",
       " 'data/data-2/Kickstarter023.csv',\n",
       " 'data/data-2/Kickstarter024.csv',\n",
       " 'data/data-2/Kickstarter025.csv',\n",
       " 'data/data-2/Kickstarter026.csv',\n",
       " 'data/data-2/Kickstarter027.csv',\n",
       " 'data/data-2/Kickstarter028.csv',\n",
       " 'data/data-2/Kickstarter029.csv',\n",
       " 'data/data-2/Kickstarter030.csv',\n",
       " 'data/data-2/Kickstarter031.csv',\n",
       " 'data/data-2/Kickstarter032.csv',\n",
       " 'data/data-2/Kickstarter033.csv',\n",
       " 'data/data-2/Kickstarter034.csv',\n",
       " 'data/data-2/Kickstarter035.csv',\n",
       " 'data/data-2/Kickstarter036.csv',\n",
       " 'data/data-2/Kickstarter037.csv',\n",
       " 'data/data-2/Kickstarter038.csv',\n",
       " 'data/data-2/Kickstarter039.csv',\n",
       " 'data/data-2/Kickstarter040.csv',\n",
       " 'data/data-2/Kickstarter041.csv',\n",
       " 'data/data-2/Kickstarter042.csv',\n",
       " 'data/data-2/Kickstarter043.csv',\n",
       " 'data/data-2/Kickstarter044.csv',\n",
       " 'data/data-2/Kickstarter045.csv',\n",
       " 'data/data-2/Kickstarter046.csv',\n",
       " 'data/data-2/Kickstarter047.csv',\n",
       " 'data/data-2/Kickstarter048.csv',\n",
       " 'data/data-2/Kickstarter049.csv',\n",
       " 'data/data-2/Kickstarter050.csv',\n",
       " 'data/data-2/Kickstarter051.csv',\n",
       " 'data/data-2/Kickstarter052.csv',\n",
       " 'data/data-2/Kickstarter053.csv',\n",
       " 'data/data-2/Kickstarter054.csv',\n",
       " 'data/data-2/Kickstarter055.csv']"
      ]
     },
     "execution_count": 154,
     "metadata": {},
     "output_type": "execute_result"
    }
   ],
   "source": [
    "all_files = glob.glob(os.path.join('data/data-2', \"*.csv\"))\n",
    "all_files.sort()\n",
    "all_files"
   ]
  },
  {
   "cell_type": "code",
   "execution_count": 155,
   "metadata": {},
   "outputs": [],
   "source": [
    "merged_df = pd.concat((pd.read_csv(f) for f in all_files), ignore_index=True)"
   ]
  },
  {
   "cell_type": "code",
   "execution_count": 156,
   "metadata": {},
   "outputs": [
    {
     "data": {
      "text/plain": [
       "array(['successful', 'failed', 'live', 'canceled', 'suspended'],\n",
       "      dtype=object)"
      ]
     },
     "execution_count": 156,
     "metadata": {},
     "output_type": "execute_result"
    }
   ],
   "source": [
    "# create dataframe with columns needed for the baseline\n",
    "df_baseline = merged_df[[\"goal\", \"fx_rate\", \"state\"]]\n",
    "df_baseline.state.unique()"
   ]
  },
  {
   "cell_type": "code",
   "execution_count": 157,
   "metadata": {},
   "outputs": [
    {
     "name": "stdout",
     "output_type": "stream",
     "text": [
      "<class 'pandas.core.frame.DataFrame'>\n",
      "Int64Index: 192664 entries, 0 to 209221\n",
      "Data columns (total 3 columns):\n",
      " #   Column   Non-Null Count   Dtype  \n",
      "---  ------   --------------   -----  \n",
      " 0   goal     192664 non-null  float64\n",
      " 1   fx_rate  192664 non-null  float64\n",
      " 2   state    192664 non-null  object \n",
      "dtypes: float64(2), object(1)\n",
      "memory usage: 5.9+ MB\n"
     ]
    }
   ],
   "source": [
    "# we only look at successful and failed, so drop other rows\n",
    "df_baseline.drop(df_baseline[df_baseline[\"state\"] == \"live\"].index, inplace=True)\n",
    "df_baseline.drop(df_baseline[df_baseline[\"state\"] == \"canceled\"].index, inplace=True)\n",
    "df_baseline.drop(df_baseline[df_baseline[\"state\"] == \"suspended\"].index, inplace=True)\n",
    "df_baseline.info()"
   ]
  },
  {
   "cell_type": "code",
   "execution_count": 217,
   "metadata": {},
   "outputs": [],
   "source": [
    "# drop those states from df_merged as well\n",
    "merged_df.drop(merged_df[merged_df[\"state\"] == \"live\"].index, inplace=True)\n",
    "merged_df.drop(merged_df[merged_df[\"state\"] == \"canceled\"].index, inplace=True)\n",
    "merged_df.drop(merged_df[merged_df[\"state\"] == \"suspended\"].index, inplace=True)"
   ]
  },
  {
   "cell_type": "markdown",
   "metadata": {},
   "source": [
    "Calculating the baseline f1-values again for the full dataset"
   ]
  },
  {
   "cell_type": "code",
   "execution_count": 218,
   "metadata": {},
   "outputs": [
    {
     "name": "stdout",
     "output_type": "stream",
     "text": [
      "med: 4993.789528, mean: 37129.537682956216\n",
      "Metrics for median: \n",
      "[[28746 46453]\n",
      " [67587 49878]]\n",
      "              precision    recall  f1-score   support\n",
      "\n",
      "           0       0.30      0.38      0.34     75199\n",
      "           1       0.52      0.42      0.47    117465\n",
      "\n",
      "    accuracy                           0.41    192664\n",
      "   macro avg       0.41      0.40      0.40    192664\n",
      "weighted avg       0.43      0.41      0.42    192664\n",
      "\n",
      "----------------------------------------------------------------------\n",
      "Metrics for mean: \n",
      "[[ 62860  12339]\n",
      " [112582   4883]]\n",
      "              precision    recall  f1-score   support\n",
      "\n",
      "           0       0.36      0.84      0.50     75199\n",
      "           1       0.28      0.04      0.07    117465\n",
      "\n",
      "    accuracy                           0.35    192664\n",
      "   macro avg       0.32      0.44      0.29    192664\n",
      "weighted avg       0.31      0.35      0.24    192664\n",
      "\n"
     ]
    }
   ],
   "source": [
    "df_baseline[\"calc_usd\"] = df_baseline[\"goal\"] * df_baseline[\"fx_rate\"]\n",
    "# add the \"calc_usd\" column to df_merged\n",
    "merged_df[\"calc_goal_usd\"] = merged_df[\"goal\"] * df_baseline[\"fx_rate\"]\n",
    "\n",
    "calc_usd_med = df_baseline.calc_usd.median()\n",
    "calc_usd_mean = df_baseline.calc_usd.mean()\n",
    "print(f\"med: {calc_usd_med}, mean: {calc_usd_mean}\")\n",
    "\n",
    "df_baseline[\"above_median\"] =  df_baseline.calc_usd.apply(lambda x: 1 if x > calc_usd_med else 0)\n",
    "df_baseline[\"above_mean\"] =  df_baseline.calc_usd.apply(lambda x: 1 if x > calc_usd_mean else 0)\n",
    "df_baseline[\"state_transformed\"] =  df_baseline.state.apply(lambda x: 1 if x == \"successful\" else 0)\n",
    "\n",
    "\n",
    "\n",
    "from sklearn.metrics import confusion_matrix, classification_report\n",
    "\n",
    "y_true = df_baseline.state_transformed\n",
    "y_pred_med = df_baseline.above_median\n",
    "y_pred_mean = df_baseline.above_mean\n",
    "\n",
    "print(\"Metrics for median: \")\n",
    "print(confusion_matrix(y_true=y_true, y_pred=y_pred_med))\n",
    "print(classification_report(y_true, y_pred_med))\n",
    "\n",
    "print(\"-------\"*10)\n",
    "print(\"Metrics for mean: \")\n",
    "print(confusion_matrix(y_true=y_true, y_pred=y_pred_mean))\n",
    "print(classification_report(y_true, y_pred_mean))"
   ]
  },
  {
   "cell_type": "markdown",
   "metadata": {},
   "source": [
    "**Result Baseline 2**\n",
    "The f1-score for the median is 47% for the full dataset compared to 48% for the first csv file."
   ]
  },
  {
   "cell_type": "markdown",
   "metadata": {},
   "source": [
    "## Feature engineering and data cleaning\n",
    "\n",
    "The following columns will be used as predictors (sorted by importance desc) and should therefore exist with cleaned values in the full data set :\n",
    "1. category\n",
    "2. pledeged\n",
    "3. created_at\n",
    "4. launched_at\n",
    "5. deadline"
   ]
  },
  {
   "cell_type": "markdown",
   "metadata": {},
   "source": [
    "#### exploring category column and json datatype"
   ]
  },
  {
   "cell_type": "code",
   "execution_count": 159,
   "metadata": {},
   "outputs": [
    {
     "data": {
      "text/plain": [
       "array(['New Final Round Album', 'Princess Pals Enamel Pin Series',\n",
       "       'Their Life Through Their Lens-the Amish and Mennonite People',\n",
       "       ..., '\"Summer Rec\" Pilot Episode',\n",
       "       \"IT'S NOT ABOUT YOU: undergraduate student thesis film\",\n",
       "       'A cool and thought provoking t-shirt line.'], dtype=object)"
      ]
     },
     "execution_count": 159,
     "metadata": {},
     "output_type": "execute_result"
    }
   ],
   "source": [
    "data.name.unique()"
   ]
  },
  {
   "cell_type": "code",
   "execution_count": 160,
   "metadata": {},
   "outputs": [
    {
     "data": {
      "text/plain": [
       "array(['new-final-round-album', 'princess-pals-enamel-pin-series',\n",
       "       'their-life-through-their-lens-the-amish-and-mennon', ...,\n",
       "       'summer-rec-pilot-episode',\n",
       "       'its-not-about-you-undergraduate-student-thesis-fil',\n",
       "       'a-cool-and-thought-provoking-t-shirt-line'], dtype=object)"
      ]
     },
     "execution_count": 160,
     "metadata": {},
     "output_type": "execute_result"
    }
   ],
   "source": [
    "data.slug.unique()"
   ]
  },
  {
   "cell_type": "code",
   "execution_count": 161,
   "metadata": {},
   "outputs": [
    {
     "name": "stdout",
     "output_type": "stream",
     "text": [
      "30\n"
     ]
    }
   ],
   "source": [
    "import json\n",
    "\n",
    "# some JSON:\n",
    "x =  '{ \"name\":\"John\", \"age\":30, \"city\":\"New York\"}'\n",
    "\n",
    "# parse x:\n",
    "y = json.loads(x)\n",
    "\n",
    "# the result is a Python dictionary:\n",
    "print(y[\"age\"])"
   ]
  },
  {
   "cell_type": "code",
   "execution_count": 162,
   "metadata": {},
   "outputs": [
    {
     "data": {
      "text/plain": [
       "1"
      ]
     },
     "execution_count": 162,
     "metadata": {},
     "output_type": "execute_result"
    }
   ],
   "source": [
    "json.loads(data.category[1])[\"parent_id\"]"
   ]
  },
  {
   "cell_type": "code",
   "execution_count": 163,
   "metadata": {},
   "outputs": [
    {
     "name": "stdout",
     "output_type": "stream",
     "text": [
      "['parent_id']\n"
     ]
    }
   ],
   "source": [
    "print([\"parent_id\"])"
   ]
  },
  {
   "cell_type": "code",
   "execution_count": 164,
   "metadata": {},
   "outputs": [
    {
     "data": {
      "text/plain": [
       "'{\"id\":54,\"name\":\"Mixed Media\",\"slug\":\"art/mixed media\",\"position\":6,\"parent_id\":1,\"color\":16760235,\"urls\":{\"web\":{\"discover\":\"http://www.kickstarter.com/discover/categories/art/mixed%20media\"}}}'"
      ]
     },
     "execution_count": 164,
     "metadata": {},
     "output_type": "execute_result"
    }
   ],
   "source": [
    "data.category[1]"
   ]
  },
  {
   "cell_type": "code",
   "execution_count": 165,
   "metadata": {},
   "outputs": [],
   "source": [
    "y = [[json.loads(data.category[i])[\"slug\"],json.loads(data.category[i])[\"parent_id\"]] for i in range(31)]"
   ]
  },
  {
   "cell_type": "code",
   "execution_count": 166,
   "metadata": {},
   "outputs": [],
   "source": [
    "y.sort()"
   ]
  },
  {
   "cell_type": "code",
   "execution_count": 167,
   "metadata": {},
   "outputs": [
    {
     "data": {
      "text/plain": [
       "[['art/mixed media', 1],\n",
       " ['art/mixed media', 1],\n",
       " ['art/sculpture', 1],\n",
       " ['fashion/accessories', 9],\n",
       " ['fashion/accessories', 9],\n",
       " ['fashion/footwear', 9],\n",
       " ['fashion/footwear', 9],\n",
       " ['fashion/footwear', 9],\n",
       " ['food/restaurants', 10],\n",
       " ['food/small batch', 10],\n",
       " ['games/playing cards', 12],\n",
       " ['games/playing cards', 12],\n",
       " ['music/classical music', 14],\n",
       " ['music/classical music', 14],\n",
       " ['music/country & folk', 14],\n",
       " ['music/rock', 14],\n",
       " ['music/rock', 14],\n",
       " ['music/rock', 14],\n",
       " ['photography/fine art', 15],\n",
       " ['photography/nature', 15],\n",
       " ['photography/photobooks', 15],\n",
       " ['photography/photobooks', 15],\n",
       " ['publishing/nonfiction', 18],\n",
       " ['publishing/nonfiction', 18],\n",
       " ['publishing/nonfiction', 18],\n",
       " ['publishing/nonfiction', 18],\n",
       " ['technology/software', 16],\n",
       " ['technology/software', 16],\n",
       " ['technology/software', 16],\n",
       " ['theater/festivals', 17],\n",
       " ['theater/musical', 17]]"
      ]
     },
     "execution_count": 167,
     "metadata": {},
     "output_type": "execute_result"
    }
   ],
   "source": [
    "y"
   ]
  },
  {
   "cell_type": "code",
   "execution_count": 168,
   "metadata": {},
   "outputs": [
    {
     "data": {
      "text/plain": [
       "14"
      ]
     },
     "execution_count": 168,
     "metadata": {},
     "output_type": "execute_result"
    }
   ],
   "source": [
    "json.loads(data.category[0])[\"parent_id\"]"
   ]
  },
  {
   "cell_type": "code",
   "execution_count": 169,
   "metadata": {},
   "outputs": [],
   "source": [
    "y = [json.loads(data.category[i]).get(\"parent_id\") for i in range(32)]"
   ]
  },
  {
   "cell_type": "code",
   "execution_count": 170,
   "metadata": {},
   "outputs": [
    {
     "data": {
      "text/plain": [
       "[14,\n",
       " 1,\n",
       " 15,\n",
       " 9,\n",
       " 16,\n",
       " 9,\n",
       " 18,\n",
       " 16,\n",
       " 1,\n",
       " 12,\n",
       " 15,\n",
       " 18,\n",
       " 9,\n",
       " 9,\n",
       " 12,\n",
       " 10,\n",
       " 15,\n",
       " 15,\n",
       " 17,\n",
       " 1,\n",
       " 14,\n",
       " 14,\n",
       " 10,\n",
       " 16,\n",
       " 18,\n",
       " 17,\n",
       " 9,\n",
       " 14,\n",
       " 14,\n",
       " 14,\n",
       " 18,\n",
       " None]"
      ]
     },
     "execution_count": 170,
     "metadata": {},
     "output_type": "execute_result"
    }
   ],
   "source": [
    "y"
   ]
  },
  {
   "cell_type": "code",
   "execution_count": 171,
   "metadata": {},
   "outputs": [],
   "source": [
    "json_df = data['category'].apply(json.loads)\n",
    "json_column = pd.DataFrame(json_df.tolist())"
   ]
  },
  {
   "cell_type": "code",
   "execution_count": 172,
   "metadata": {},
   "outputs": [
    {
     "data": {
      "text/plain": [
       "0       14.0\n",
       "1        1.0\n",
       "2       15.0\n",
       "3        9.0\n",
       "4       16.0\n",
       "        ... \n",
       "3774    14.0\n",
       "3775    12.0\n",
       "3776    11.0\n",
       "3777    11.0\n",
       "3778     9.0\n",
       "Name: parent_id, Length: 3779, dtype: float64"
      ]
     },
     "execution_count": 172,
     "metadata": {},
     "output_type": "execute_result"
    }
   ],
   "source": [
    "json_column.parent_id"
   ]
  },
  {
   "cell_type": "code",
   "execution_count": 173,
   "metadata": {},
   "outputs": [
    {
     "data": {
      "text/plain": [
       "(3779, 7)"
      ]
     },
     "execution_count": 173,
     "metadata": {},
     "output_type": "execute_result"
    }
   ],
   "source": [
    "json_column.shape"
   ]
  },
  {
   "cell_type": "code",
   "execution_count": 174,
   "metadata": {},
   "outputs": [],
   "source": [
    "data_wide = pd.concat([data, json_column.parent_id], axis=1)"
   ]
  },
  {
   "cell_type": "code",
   "execution_count": 175,
   "metadata": {},
   "outputs": [
    {
     "data": {
      "text/html": [
       "<div>\n",
       "<style scoped>\n",
       "    .dataframe tbody tr th:only-of-type {\n",
       "        vertical-align: middle;\n",
       "    }\n",
       "\n",
       "    .dataframe tbody tr th {\n",
       "        vertical-align: top;\n",
       "    }\n",
       "\n",
       "    .dataframe thead th {\n",
       "        text-align: right;\n",
       "    }\n",
       "</style>\n",
       "<table border=\"1\" class=\"dataframe\">\n",
       "  <thead>\n",
       "    <tr style=\"text-align: right;\">\n",
       "      <th></th>\n",
       "      <th>backers_count</th>\n",
       "      <th>blurb</th>\n",
       "      <th>category</th>\n",
       "      <th>converted_pledged_amount</th>\n",
       "      <th>country</th>\n",
       "      <th>created_at</th>\n",
       "      <th>creator</th>\n",
       "      <th>currency</th>\n",
       "      <th>currency_symbol</th>\n",
       "      <th>currency_trailing_code</th>\n",
       "      <th>...</th>\n",
       "      <th>source_url</th>\n",
       "      <th>spotlight</th>\n",
       "      <th>staff_pick</th>\n",
       "      <th>state</th>\n",
       "      <th>state_changed_at</th>\n",
       "      <th>static_usd_rate</th>\n",
       "      <th>urls</th>\n",
       "      <th>usd_pledged</th>\n",
       "      <th>usd_type</th>\n",
       "      <th>parent_id</th>\n",
       "    </tr>\n",
       "  </thead>\n",
       "  <tbody>\n",
       "    <tr>\n",
       "      <th>0</th>\n",
       "      <td>21</td>\n",
       "      <td>2006 was almost 7 years ago.... Can you believ...</td>\n",
       "      <td>{\"id\":43,\"name\":\"Rock\",\"slug\":\"music/rock\",\"po...</td>\n",
       "      <td>802</td>\n",
       "      <td>US</td>\n",
       "      <td>1387659690</td>\n",
       "      <td>{\"id\":1495925645,\"name\":\"Daniel\",\"is_registere...</td>\n",
       "      <td>USD</td>\n",
       "      <td>$</td>\n",
       "      <td>True</td>\n",
       "      <td>...</td>\n",
       "      <td>https://www.kickstarter.com/discover/categorie...</td>\n",
       "      <td>True</td>\n",
       "      <td>False</td>\n",
       "      <td>successful</td>\n",
       "      <td>1391899046</td>\n",
       "      <td>1.000000</td>\n",
       "      <td>{\"web\":{\"project\":\"https://www.kickstarter.com...</td>\n",
       "      <td>802.00000</td>\n",
       "      <td>international</td>\n",
       "      <td>14.0</td>\n",
       "    </tr>\n",
       "    <tr>\n",
       "      <th>1</th>\n",
       "      <td>97</td>\n",
       "      <td>An adorable fantasy enamel pin series of princ...</td>\n",
       "      <td>{\"id\":54,\"name\":\"Mixed Media\",\"slug\":\"art/mixe...</td>\n",
       "      <td>2259</td>\n",
       "      <td>US</td>\n",
       "      <td>1549659768</td>\n",
       "      <td>{\"id\":1175589980,\"name\":\"Katherine\",\"slug\":\"fr...</td>\n",
       "      <td>USD</td>\n",
       "      <td>$</td>\n",
       "      <td>True</td>\n",
       "      <td>...</td>\n",
       "      <td>https://www.kickstarter.com/discover/categorie...</td>\n",
       "      <td>True</td>\n",
       "      <td>False</td>\n",
       "      <td>successful</td>\n",
       "      <td>1551801611</td>\n",
       "      <td>1.000000</td>\n",
       "      <td>{\"web\":{\"project\":\"https://www.kickstarter.com...</td>\n",
       "      <td>2259.00000</td>\n",
       "      <td>international</td>\n",
       "      <td>1.0</td>\n",
       "    </tr>\n",
       "    <tr>\n",
       "      <th>2</th>\n",
       "      <td>88</td>\n",
       "      <td>Helping a community come together to set the s...</td>\n",
       "      <td>{\"id\":280,\"name\":\"Photobooks\",\"slug\":\"photogra...</td>\n",
       "      <td>29638</td>\n",
       "      <td>US</td>\n",
       "      <td>1477242384</td>\n",
       "      <td>{\"id\":1196856269,\"name\":\"MelissaThomas\",\"is_re...</td>\n",
       "      <td>USD</td>\n",
       "      <td>$</td>\n",
       "      <td>True</td>\n",
       "      <td>...</td>\n",
       "      <td>https://www.kickstarter.com/discover/categorie...</td>\n",
       "      <td>True</td>\n",
       "      <td>True</td>\n",
       "      <td>successful</td>\n",
       "      <td>1480607932</td>\n",
       "      <td>1.000000</td>\n",
       "      <td>{\"web\":{\"project\":\"https://www.kickstarter.com...</td>\n",
       "      <td>29638.00000</td>\n",
       "      <td>international</td>\n",
       "      <td>15.0</td>\n",
       "    </tr>\n",
       "    <tr>\n",
       "      <th>3</th>\n",
       "      <td>193</td>\n",
       "      <td>Every revolution starts from the bottom and we...</td>\n",
       "      <td>{\"id\":266,\"name\":\"Footwear\",\"slug\":\"fashion/fo...</td>\n",
       "      <td>49158</td>\n",
       "      <td>IT</td>\n",
       "      <td>1540369920</td>\n",
       "      <td>{\"id\":1569700626,\"name\":\"WAO\",\"slug\":\"wearewao...</td>\n",
       "      <td>EUR</td>\n",
       "      <td>€</td>\n",
       "      <td>False</td>\n",
       "      <td>...</td>\n",
       "      <td>https://www.kickstarter.com/discover/categorie...</td>\n",
       "      <td>True</td>\n",
       "      <td>False</td>\n",
       "      <td>successful</td>\n",
       "      <td>1544309940</td>\n",
       "      <td>1.136525</td>\n",
       "      <td>{\"web\":{\"project\":\"https://www.kickstarter.com...</td>\n",
       "      <td>49075.15252</td>\n",
       "      <td>international</td>\n",
       "      <td>9.0</td>\n",
       "    </tr>\n",
       "    <tr>\n",
       "      <th>4</th>\n",
       "      <td>20</td>\n",
       "      <td>Learn to build 10+ Applications in this comple...</td>\n",
       "      <td>{\"id\":51,\"name\":\"Software\",\"slug\":\"technology/...</td>\n",
       "      <td>549</td>\n",
       "      <td>US</td>\n",
       "      <td>1425706517</td>\n",
       "      <td>{\"id\":1870845385,\"name\":\"Kalpit Jain\",\"is_regi...</td>\n",
       "      <td>USD</td>\n",
       "      <td>$</td>\n",
       "      <td>True</td>\n",
       "      <td>...</td>\n",
       "      <td>https://www.kickstarter.com/discover/categorie...</td>\n",
       "      <td>False</td>\n",
       "      <td>False</td>\n",
       "      <td>failed</td>\n",
       "      <td>1428511019</td>\n",
       "      <td>1.000000</td>\n",
       "      <td>{\"web\":{\"project\":\"https://www.kickstarter.com...</td>\n",
       "      <td>549.00000</td>\n",
       "      <td>domestic</td>\n",
       "      <td>16.0</td>\n",
       "    </tr>\n",
       "    <tr>\n",
       "      <th>...</th>\n",
       "      <td>...</td>\n",
       "      <td>...</td>\n",
       "      <td>...</td>\n",
       "      <td>...</td>\n",
       "      <td>...</td>\n",
       "      <td>...</td>\n",
       "      <td>...</td>\n",
       "      <td>...</td>\n",
       "      <td>...</td>\n",
       "      <td>...</td>\n",
       "      <td>...</td>\n",
       "      <td>...</td>\n",
       "      <td>...</td>\n",
       "      <td>...</td>\n",
       "      <td>...</td>\n",
       "      <td>...</td>\n",
       "      <td>...</td>\n",
       "      <td>...</td>\n",
       "      <td>...</td>\n",
       "      <td>...</td>\n",
       "      <td>...</td>\n",
       "    </tr>\n",
       "    <tr>\n",
       "      <th>3774</th>\n",
       "      <td>10</td>\n",
       "      <td>This is a collaborative effort at recording, m...</td>\n",
       "      <td>{\"id\":316,\"name\":\"Blues\",\"slug\":\"music/blues\",...</td>\n",
       "      <td>506</td>\n",
       "      <td>US</td>\n",
       "      <td>1454527113</td>\n",
       "      <td>{\"id\":1000214737,\"name\":\"Penny D Marcucci\",\"is...</td>\n",
       "      <td>USD</td>\n",
       "      <td>$</td>\n",
       "      <td>True</td>\n",
       "      <td>...</td>\n",
       "      <td>https://www.kickstarter.com/discover/categorie...</td>\n",
       "      <td>False</td>\n",
       "      <td>False</td>\n",
       "      <td>failed</td>\n",
       "      <td>1459716419</td>\n",
       "      <td>1.000000</td>\n",
       "      <td>{\"web\":{\"project\":\"https://www.kickstarter.com...</td>\n",
       "      <td>506.00000</td>\n",
       "      <td>domestic</td>\n",
       "      <td>14.0</td>\n",
       "    </tr>\n",
       "    <tr>\n",
       "      <th>3775</th>\n",
       "      <td>472</td>\n",
       "      <td>Get your own Mimic Chest containing dice vault...</td>\n",
       "      <td>{\"id\":270,\"name\":\"Gaming Hardware\",\"slug\":\"gam...</td>\n",
       "      <td>75790</td>\n",
       "      <td>US</td>\n",
       "      <td>1506288614</td>\n",
       "      <td>{\"id\":1342562240,\"name\":\"Polymorph Crafts\",\"sl...</td>\n",
       "      <td>USD</td>\n",
       "      <td>$</td>\n",
       "      <td>True</td>\n",
       "      <td>...</td>\n",
       "      <td>https://www.kickstarter.com/discover/categorie...</td>\n",
       "      <td>True</td>\n",
       "      <td>False</td>\n",
       "      <td>successful</td>\n",
       "      <td>1510934334</td>\n",
       "      <td>1.000000</td>\n",
       "      <td>{\"web\":{\"project\":\"https://www.kickstarter.com...</td>\n",
       "      <td>75790.00000</td>\n",
       "      <td>international</td>\n",
       "      <td>12.0</td>\n",
       "    </tr>\n",
       "    <tr>\n",
       "      <th>3776</th>\n",
       "      <td>35</td>\n",
       "      <td>A new animated, workplace comedy series about ...</td>\n",
       "      <td>{\"id\":29,\"name\":\"Animation\",\"slug\":\"film &amp; vid...</td>\n",
       "      <td>2346</td>\n",
       "      <td>US</td>\n",
       "      <td>1336120969</td>\n",
       "      <td>{\"id\":765327036,\"name\":\"Daran Carlin-Weber\",\"i...</td>\n",
       "      <td>USD</td>\n",
       "      <td>$</td>\n",
       "      <td>True</td>\n",
       "      <td>...</td>\n",
       "      <td>https://www.kickstarter.com/discover/categorie...</td>\n",
       "      <td>False</td>\n",
       "      <td>False</td>\n",
       "      <td>failed</td>\n",
       "      <td>1339046590</td>\n",
       "      <td>1.000000</td>\n",
       "      <td>{\"web\":{\"project\":\"https://www.kickstarter.com...</td>\n",
       "      <td>2346.00000</td>\n",
       "      <td>international</td>\n",
       "      <td>11.0</td>\n",
       "    </tr>\n",
       "    <tr>\n",
       "      <th>3777</th>\n",
       "      <td>13</td>\n",
       "      <td>a thesis film following the emotional life of ...</td>\n",
       "      <td>{\"id\":32,\"name\":\"Shorts\",\"slug\":\"film &amp; video/...</td>\n",
       "      <td>1901</td>\n",
       "      <td>US</td>\n",
       "      <td>1537154407</td>\n",
       "      <td>{\"id\":1521393087,\"name\":\"Carolyn Ramella\",\"is_...</td>\n",
       "      <td>USD</td>\n",
       "      <td>$</td>\n",
       "      <td>True</td>\n",
       "      <td>...</td>\n",
       "      <td>https://www.kickstarter.com/discover/categorie...</td>\n",
       "      <td>True</td>\n",
       "      <td>False</td>\n",
       "      <td>successful</td>\n",
       "      <td>1543349869</td>\n",
       "      <td>1.000000</td>\n",
       "      <td>{\"web\":{\"project\":\"https://www.kickstarter.com...</td>\n",
       "      <td>1901.00000</td>\n",
       "      <td>international</td>\n",
       "      <td>11.0</td>\n",
       "    </tr>\n",
       "    <tr>\n",
       "      <th>3778</th>\n",
       "      <td>93</td>\n",
       "      <td>A thought provoking t-shirt line inspired by p...</td>\n",
       "      <td>{\"id\":263,\"name\":\"Apparel\",\"slug\":\"fashion/app...</td>\n",
       "      <td>3362</td>\n",
       "      <td>US</td>\n",
       "      <td>1401366265</td>\n",
       "      <td>{\"id\":119990009,\"name\":\"Simeon Talley\",\"is_reg...</td>\n",
       "      <td>USD</td>\n",
       "      <td>$</td>\n",
       "      <td>True</td>\n",
       "      <td>...</td>\n",
       "      <td>https://www.kickstarter.com/discover/categorie...</td>\n",
       "      <td>True</td>\n",
       "      <td>False</td>\n",
       "      <td>successful</td>\n",
       "      <td>1415286652</td>\n",
       "      <td>1.000000</td>\n",
       "      <td>{\"web\":{\"project\":\"https://www.kickstarter.com...</td>\n",
       "      <td>3362.00000</td>\n",
       "      <td>domestic</td>\n",
       "      <td>9.0</td>\n",
       "    </tr>\n",
       "  </tbody>\n",
       "</table>\n",
       "<p>3779 rows × 38 columns</p>\n",
       "</div>"
      ],
      "text/plain": [
       "      backers_count                                              blurb  \\\n",
       "0                21  2006 was almost 7 years ago.... Can you believ...   \n",
       "1                97  An adorable fantasy enamel pin series of princ...   \n",
       "2                88  Helping a community come together to set the s...   \n",
       "3               193  Every revolution starts from the bottom and we...   \n",
       "4                20  Learn to build 10+ Applications in this comple...   \n",
       "...             ...                                                ...   \n",
       "3774             10  This is a collaborative effort at recording, m...   \n",
       "3775            472  Get your own Mimic Chest containing dice vault...   \n",
       "3776             35  A new animated, workplace comedy series about ...   \n",
       "3777             13  a thesis film following the emotional life of ...   \n",
       "3778             93  A thought provoking t-shirt line inspired by p...   \n",
       "\n",
       "                                               category  \\\n",
       "0     {\"id\":43,\"name\":\"Rock\",\"slug\":\"music/rock\",\"po...   \n",
       "1     {\"id\":54,\"name\":\"Mixed Media\",\"slug\":\"art/mixe...   \n",
       "2     {\"id\":280,\"name\":\"Photobooks\",\"slug\":\"photogra...   \n",
       "3     {\"id\":266,\"name\":\"Footwear\",\"slug\":\"fashion/fo...   \n",
       "4     {\"id\":51,\"name\":\"Software\",\"slug\":\"technology/...   \n",
       "...                                                 ...   \n",
       "3774  {\"id\":316,\"name\":\"Blues\",\"slug\":\"music/blues\",...   \n",
       "3775  {\"id\":270,\"name\":\"Gaming Hardware\",\"slug\":\"gam...   \n",
       "3776  {\"id\":29,\"name\":\"Animation\",\"slug\":\"film & vid...   \n",
       "3777  {\"id\":32,\"name\":\"Shorts\",\"slug\":\"film & video/...   \n",
       "3778  {\"id\":263,\"name\":\"Apparel\",\"slug\":\"fashion/app...   \n",
       "\n",
       "      converted_pledged_amount country  created_at  \\\n",
       "0                          802      US  1387659690   \n",
       "1                         2259      US  1549659768   \n",
       "2                        29638      US  1477242384   \n",
       "3                        49158      IT  1540369920   \n",
       "4                          549      US  1425706517   \n",
       "...                        ...     ...         ...   \n",
       "3774                       506      US  1454527113   \n",
       "3775                     75790      US  1506288614   \n",
       "3776                      2346      US  1336120969   \n",
       "3777                      1901      US  1537154407   \n",
       "3778                      3362      US  1401366265   \n",
       "\n",
       "                                                creator currency  \\\n",
       "0     {\"id\":1495925645,\"name\":\"Daniel\",\"is_registere...      USD   \n",
       "1     {\"id\":1175589980,\"name\":\"Katherine\",\"slug\":\"fr...      USD   \n",
       "2     {\"id\":1196856269,\"name\":\"MelissaThomas\",\"is_re...      USD   \n",
       "3     {\"id\":1569700626,\"name\":\"WAO\",\"slug\":\"wearewao...      EUR   \n",
       "4     {\"id\":1870845385,\"name\":\"Kalpit Jain\",\"is_regi...      USD   \n",
       "...                                                 ...      ...   \n",
       "3774  {\"id\":1000214737,\"name\":\"Penny D Marcucci\",\"is...      USD   \n",
       "3775  {\"id\":1342562240,\"name\":\"Polymorph Crafts\",\"sl...      USD   \n",
       "3776  {\"id\":765327036,\"name\":\"Daran Carlin-Weber\",\"i...      USD   \n",
       "3777  {\"id\":1521393087,\"name\":\"Carolyn Ramella\",\"is_...      USD   \n",
       "3778  {\"id\":119990009,\"name\":\"Simeon Talley\",\"is_reg...      USD   \n",
       "\n",
       "     currency_symbol  currency_trailing_code  ...  \\\n",
       "0                  $                    True  ...   \n",
       "1                  $                    True  ...   \n",
       "2                  $                    True  ...   \n",
       "3                  €                   False  ...   \n",
       "4                  $                    True  ...   \n",
       "...              ...                     ...  ...   \n",
       "3774               $                    True  ...   \n",
       "3775               $                    True  ...   \n",
       "3776               $                    True  ...   \n",
       "3777               $                    True  ...   \n",
       "3778               $                    True  ...   \n",
       "\n",
       "                                             source_url  spotlight  \\\n",
       "0     https://www.kickstarter.com/discover/categorie...       True   \n",
       "1     https://www.kickstarter.com/discover/categorie...       True   \n",
       "2     https://www.kickstarter.com/discover/categorie...       True   \n",
       "3     https://www.kickstarter.com/discover/categorie...       True   \n",
       "4     https://www.kickstarter.com/discover/categorie...      False   \n",
       "...                                                 ...        ...   \n",
       "3774  https://www.kickstarter.com/discover/categorie...      False   \n",
       "3775  https://www.kickstarter.com/discover/categorie...       True   \n",
       "3776  https://www.kickstarter.com/discover/categorie...      False   \n",
       "3777  https://www.kickstarter.com/discover/categorie...       True   \n",
       "3778  https://www.kickstarter.com/discover/categorie...       True   \n",
       "\n",
       "      staff_pick       state  state_changed_at  static_usd_rate  \\\n",
       "0          False  successful        1391899046         1.000000   \n",
       "1          False  successful        1551801611         1.000000   \n",
       "2           True  successful        1480607932         1.000000   \n",
       "3          False  successful        1544309940         1.136525   \n",
       "4          False      failed        1428511019         1.000000   \n",
       "...          ...         ...               ...              ...   \n",
       "3774       False      failed        1459716419         1.000000   \n",
       "3775       False  successful        1510934334         1.000000   \n",
       "3776       False      failed        1339046590         1.000000   \n",
       "3777       False  successful        1543349869         1.000000   \n",
       "3778       False  successful        1415286652         1.000000   \n",
       "\n",
       "                                                   urls  usd_pledged  \\\n",
       "0     {\"web\":{\"project\":\"https://www.kickstarter.com...    802.00000   \n",
       "1     {\"web\":{\"project\":\"https://www.kickstarter.com...   2259.00000   \n",
       "2     {\"web\":{\"project\":\"https://www.kickstarter.com...  29638.00000   \n",
       "3     {\"web\":{\"project\":\"https://www.kickstarter.com...  49075.15252   \n",
       "4     {\"web\":{\"project\":\"https://www.kickstarter.com...    549.00000   \n",
       "...                                                 ...          ...   \n",
       "3774  {\"web\":{\"project\":\"https://www.kickstarter.com...    506.00000   \n",
       "3775  {\"web\":{\"project\":\"https://www.kickstarter.com...  75790.00000   \n",
       "3776  {\"web\":{\"project\":\"https://www.kickstarter.com...   2346.00000   \n",
       "3777  {\"web\":{\"project\":\"https://www.kickstarter.com...   1901.00000   \n",
       "3778  {\"web\":{\"project\":\"https://www.kickstarter.com...   3362.00000   \n",
       "\n",
       "           usd_type parent_id  \n",
       "0     international      14.0  \n",
       "1     international       1.0  \n",
       "2     international      15.0  \n",
       "3     international       9.0  \n",
       "4          domestic      16.0  \n",
       "...             ...       ...  \n",
       "3774       domestic      14.0  \n",
       "3775  international      12.0  \n",
       "3776  international      11.0  \n",
       "3777  international      11.0  \n",
       "3778       domestic       9.0  \n",
       "\n",
       "[3779 rows x 38 columns]"
      ]
     },
     "execution_count": 175,
     "metadata": {},
     "output_type": "execute_result"
    }
   ],
   "source": [
    "data_wide"
   ]
  },
  {
   "cell_type": "code",
   "execution_count": 176,
   "metadata": {},
   "outputs": [
    {
     "data": {
      "text/plain": [
       "array([14.,  1., 15.,  9., 16., 18., 12., 10., 17., nan,  6., 13., 11.,\n",
       "        3., 26.,  7.])"
      ]
     },
     "execution_count": 176,
     "metadata": {},
     "output_type": "execute_result"
    }
   ],
   "source": [
    "data_wide.parent_id.unique()"
   ]
  },
  {
   "cell_type": "markdown",
   "metadata": {},
   "source": [
    "#### creating lists of categories and ids"
   ]
  },
  {
   "cell_type": "code",
   "execution_count": 177,
   "metadata": {},
   "outputs": [],
   "source": [
    "json_df = merged_df['category'].apply(json.loads)\n",
    "json_column = pd.DataFrame(json_df.tolist())"
   ]
  },
  {
   "cell_type": "code",
   "execution_count": 178,
   "metadata": {},
   "outputs": [],
   "source": [
    "legend = pd.concat([json_column.slug, json_column.parent_id], axis=1)"
   ]
  },
  {
   "cell_type": "code",
   "execution_count": 179,
   "metadata": {},
   "outputs": [],
   "source": [
    "id_legend = legend.sort_values('parent_id').drop_duplicates().set_index('parent_id')"
   ]
  },
  {
   "cell_type": "code",
   "execution_count": 180,
   "metadata": {},
   "outputs": [],
   "source": [
    "minislug = [json_column.slug[i].split('/')[0] for i in range(len(json_column))]"
   ]
  },
  {
   "cell_type": "code",
   "execution_count": 181,
   "metadata": {},
   "outputs": [],
   "source": [
    "# all minislugs (category in string format) as data frame\n",
    "df_mini = pd.DataFrame({'minislug':minislug})"
   ]
  },
  {
   "cell_type": "code",
   "execution_count": 182,
   "metadata": {},
   "outputs": [
    {
     "data": {
      "text/plain": [
       "(209222, 1)"
      ]
     },
     "execution_count": 182,
     "metadata": {},
     "output_type": "execute_result"
    }
   ],
   "source": [
    "df_mini.shape"
   ]
  },
  {
   "cell_type": "code",
   "execution_count": 183,
   "metadata": {},
   "outputs": [],
   "source": [
    "legend = pd.concat([df_mini, json_column.parent_id], axis=1)"
   ]
  },
  {
   "cell_type": "code",
   "execution_count": 184,
   "metadata": {},
   "outputs": [],
   "source": [
    "id_legend = legend.sort_values('parent_id').drop_duplicates().reset_index(drop=True)"
   ]
  },
  {
   "cell_type": "code",
   "execution_count": 185,
   "metadata": {},
   "outputs": [
    {
     "data": {
      "text/html": [
       "<div>\n",
       "<style scoped>\n",
       "    .dataframe tbody tr th:only-of-type {\n",
       "        vertical-align: middle;\n",
       "    }\n",
       "\n",
       "    .dataframe tbody tr th {\n",
       "        vertical-align: top;\n",
       "    }\n",
       "\n",
       "    .dataframe thead th {\n",
       "        text-align: right;\n",
       "    }\n",
       "</style>\n",
       "<table border=\"1\" class=\"dataframe\">\n",
       "  <thead>\n",
       "    <tr style=\"text-align: right;\">\n",
       "      <th></th>\n",
       "      <th>minislug</th>\n",
       "      <th>parent_id</th>\n",
       "    </tr>\n",
       "  </thead>\n",
       "  <tbody>\n",
       "    <tr>\n",
       "      <th>0</th>\n",
       "      <td>art</td>\n",
       "      <td>1.0</td>\n",
       "    </tr>\n",
       "    <tr>\n",
       "      <th>1</th>\n",
       "      <td>comics</td>\n",
       "      <td>3.0</td>\n",
       "    </tr>\n",
       "    <tr>\n",
       "      <th>2</th>\n",
       "      <td>dance</td>\n",
       "      <td>6.0</td>\n",
       "    </tr>\n",
       "    <tr>\n",
       "      <th>3</th>\n",
       "      <td>design</td>\n",
       "      <td>7.0</td>\n",
       "    </tr>\n",
       "    <tr>\n",
       "      <th>4</th>\n",
       "      <td>fashion</td>\n",
       "      <td>9.0</td>\n",
       "    </tr>\n",
       "    <tr>\n",
       "      <th>5</th>\n",
       "      <td>food</td>\n",
       "      <td>10.0</td>\n",
       "    </tr>\n",
       "    <tr>\n",
       "      <th>6</th>\n",
       "      <td>film &amp; video</td>\n",
       "      <td>11.0</td>\n",
       "    </tr>\n",
       "    <tr>\n",
       "      <th>7</th>\n",
       "      <td>games</td>\n",
       "      <td>12.0</td>\n",
       "    </tr>\n",
       "    <tr>\n",
       "      <th>8</th>\n",
       "      <td>journalism</td>\n",
       "      <td>13.0</td>\n",
       "    </tr>\n",
       "    <tr>\n",
       "      <th>9</th>\n",
       "      <td>music</td>\n",
       "      <td>14.0</td>\n",
       "    </tr>\n",
       "    <tr>\n",
       "      <th>10</th>\n",
       "      <td>photography</td>\n",
       "      <td>15.0</td>\n",
       "    </tr>\n",
       "    <tr>\n",
       "      <th>11</th>\n",
       "      <td>technology</td>\n",
       "      <td>16.0</td>\n",
       "    </tr>\n",
       "    <tr>\n",
       "      <th>12</th>\n",
       "      <td>theater</td>\n",
       "      <td>17.0</td>\n",
       "    </tr>\n",
       "    <tr>\n",
       "      <th>13</th>\n",
       "      <td>publishing</td>\n",
       "      <td>18.0</td>\n",
       "    </tr>\n",
       "    <tr>\n",
       "      <th>14</th>\n",
       "      <td>crafts</td>\n",
       "      <td>26.0</td>\n",
       "    </tr>\n",
       "    <tr>\n",
       "      <th>15</th>\n",
       "      <td>theater</td>\n",
       "      <td>NaN</td>\n",
       "    </tr>\n",
       "    <tr>\n",
       "      <th>16</th>\n",
       "      <td>photography</td>\n",
       "      <td>NaN</td>\n",
       "    </tr>\n",
       "    <tr>\n",
       "      <th>17</th>\n",
       "      <td>music</td>\n",
       "      <td>NaN</td>\n",
       "    </tr>\n",
       "    <tr>\n",
       "      <th>18</th>\n",
       "      <td>fashion</td>\n",
       "      <td>NaN</td>\n",
       "    </tr>\n",
       "    <tr>\n",
       "      <th>19</th>\n",
       "      <td>crafts</td>\n",
       "      <td>NaN</td>\n",
       "    </tr>\n",
       "    <tr>\n",
       "      <th>20</th>\n",
       "      <td>technology</td>\n",
       "      <td>NaN</td>\n",
       "    </tr>\n",
       "    <tr>\n",
       "      <th>21</th>\n",
       "      <td>journalism</td>\n",
       "      <td>NaN</td>\n",
       "    </tr>\n",
       "    <tr>\n",
       "      <th>22</th>\n",
       "      <td>games</td>\n",
       "      <td>NaN</td>\n",
       "    </tr>\n",
       "    <tr>\n",
       "      <th>23</th>\n",
       "      <td>dance</td>\n",
       "      <td>NaN</td>\n",
       "    </tr>\n",
       "    <tr>\n",
       "      <th>24</th>\n",
       "      <td>comics</td>\n",
       "      <td>NaN</td>\n",
       "    </tr>\n",
       "    <tr>\n",
       "      <th>25</th>\n",
       "      <td>food</td>\n",
       "      <td>NaN</td>\n",
       "    </tr>\n",
       "    <tr>\n",
       "      <th>26</th>\n",
       "      <td>design</td>\n",
       "      <td>NaN</td>\n",
       "    </tr>\n",
       "    <tr>\n",
       "      <th>27</th>\n",
       "      <td>art</td>\n",
       "      <td>NaN</td>\n",
       "    </tr>\n",
       "    <tr>\n",
       "      <th>28</th>\n",
       "      <td>publishing</td>\n",
       "      <td>NaN</td>\n",
       "    </tr>\n",
       "    <tr>\n",
       "      <th>29</th>\n",
       "      <td>film &amp; video</td>\n",
       "      <td>NaN</td>\n",
       "    </tr>\n",
       "  </tbody>\n",
       "</table>\n",
       "</div>"
      ],
      "text/plain": [
       "        minislug  parent_id\n",
       "0            art        1.0\n",
       "1         comics        3.0\n",
       "2          dance        6.0\n",
       "3         design        7.0\n",
       "4        fashion        9.0\n",
       "5           food       10.0\n",
       "6   film & video       11.0\n",
       "7          games       12.0\n",
       "8     journalism       13.0\n",
       "9          music       14.0\n",
       "10   photography       15.0\n",
       "11    technology       16.0\n",
       "12       theater       17.0\n",
       "13    publishing       18.0\n",
       "14        crafts       26.0\n",
       "15       theater        NaN\n",
       "16   photography        NaN\n",
       "17         music        NaN\n",
       "18       fashion        NaN\n",
       "19        crafts        NaN\n",
       "20    technology        NaN\n",
       "21    journalism        NaN\n",
       "22         games        NaN\n",
       "23         dance        NaN\n",
       "24        comics        NaN\n",
       "25          food        NaN\n",
       "26        design        NaN\n",
       "27           art        NaN\n",
       "28    publishing        NaN\n",
       "29  film & video        NaN"
      ]
     },
     "execution_count": 185,
     "metadata": {},
     "output_type": "execute_result"
    }
   ],
   "source": [
    "id_legend"
   ]
  },
  {
   "cell_type": "code",
   "execution_count": 186,
   "metadata": {},
   "outputs": [],
   "source": [
    "top_categories = legend.minislug.drop_duplicates().to_list()\n",
    "full_categories = json_column.slug.drop_duplicates().to_list()\n"
   ]
  },
  {
   "cell_type": "code",
   "execution_count": 187,
   "metadata": {},
   "outputs": [],
   "source": [
    "# function to map correct parent_id to a top category based on id_legend dataframe\n",
    "def condition(x):\n",
    "    cat = x['minislug']\n",
    "    if (cat == 'art'):\n",
    "        return 1.0\n",
    "    elif (cat == 'comics'):\n",
    "\t    return 3.0\n",
    "    elif (cat == 'dance'):\n",
    "        return 6.0\n",
    "    elif (cat == 'design'):\n",
    "        return 7.0\n",
    "    elif (cat == 'fashion'):\n",
    "        return 9.0\n",
    "    elif (cat == 'food'):\n",
    "        return 10.0\n",
    "    elif (cat == 'film & video'):\n",
    "        return 11.0\n",
    "    elif (cat == 'games'):\n",
    "        return 12.0\n",
    "    elif (cat == 'journalism'):\n",
    "        return 13.0\n",
    "    elif (cat == 'music'):\n",
    "        return 14.0\n",
    "    elif (cat == 'photography'):\n",
    "        return 15.0\n",
    "    elif (cat == 'technology'):\n",
    "        return 16.0\n",
    "    elif (cat == 'theater'):\n",
    "        return 17.0\n",
    "    elif (cat == 'publishing'):\n",
    "        return 18.0\n",
    "    elif (cat == 'crafts'):\n",
    "        return 26.0\n",
    "\n",
    "id_legend.parent_id = id_legend.apply(condition, axis=1)\n"
   ]
  },
  {
   "cell_type": "markdown",
   "metadata": {},
   "source": [
    "**final top category list with ids**"
   ]
  },
  {
   "cell_type": "code",
   "execution_count": 188,
   "metadata": {},
   "outputs": [
    {
     "data": {
      "text/html": [
       "<div>\n",
       "<style scoped>\n",
       "    .dataframe tbody tr th:only-of-type {\n",
       "        vertical-align: middle;\n",
       "    }\n",
       "\n",
       "    .dataframe tbody tr th {\n",
       "        vertical-align: top;\n",
       "    }\n",
       "\n",
       "    .dataframe thead th {\n",
       "        text-align: right;\n",
       "    }\n",
       "</style>\n",
       "<table border=\"1\" class=\"dataframe\">\n",
       "  <thead>\n",
       "    <tr style=\"text-align: right;\">\n",
       "      <th></th>\n",
       "      <th>minislug</th>\n",
       "      <th>parent_id</th>\n",
       "    </tr>\n",
       "  </thead>\n",
       "  <tbody>\n",
       "    <tr>\n",
       "      <th>0</th>\n",
       "      <td>art</td>\n",
       "      <td>1.0</td>\n",
       "    </tr>\n",
       "    <tr>\n",
       "      <th>1</th>\n",
       "      <td>comics</td>\n",
       "      <td>3.0</td>\n",
       "    </tr>\n",
       "    <tr>\n",
       "      <th>2</th>\n",
       "      <td>dance</td>\n",
       "      <td>6.0</td>\n",
       "    </tr>\n",
       "    <tr>\n",
       "      <th>3</th>\n",
       "      <td>design</td>\n",
       "      <td>7.0</td>\n",
       "    </tr>\n",
       "    <tr>\n",
       "      <th>4</th>\n",
       "      <td>fashion</td>\n",
       "      <td>9.0</td>\n",
       "    </tr>\n",
       "    <tr>\n",
       "      <th>5</th>\n",
       "      <td>food</td>\n",
       "      <td>10.0</td>\n",
       "    </tr>\n",
       "    <tr>\n",
       "      <th>6</th>\n",
       "      <td>film &amp; video</td>\n",
       "      <td>11.0</td>\n",
       "    </tr>\n",
       "    <tr>\n",
       "      <th>7</th>\n",
       "      <td>games</td>\n",
       "      <td>12.0</td>\n",
       "    </tr>\n",
       "    <tr>\n",
       "      <th>8</th>\n",
       "      <td>journalism</td>\n",
       "      <td>13.0</td>\n",
       "    </tr>\n",
       "    <tr>\n",
       "      <th>9</th>\n",
       "      <td>music</td>\n",
       "      <td>14.0</td>\n",
       "    </tr>\n",
       "    <tr>\n",
       "      <th>10</th>\n",
       "      <td>photography</td>\n",
       "      <td>15.0</td>\n",
       "    </tr>\n",
       "    <tr>\n",
       "      <th>11</th>\n",
       "      <td>technology</td>\n",
       "      <td>16.0</td>\n",
       "    </tr>\n",
       "    <tr>\n",
       "      <th>12</th>\n",
       "      <td>theater</td>\n",
       "      <td>17.0</td>\n",
       "    </tr>\n",
       "    <tr>\n",
       "      <th>13</th>\n",
       "      <td>publishing</td>\n",
       "      <td>18.0</td>\n",
       "    </tr>\n",
       "    <tr>\n",
       "      <th>14</th>\n",
       "      <td>crafts</td>\n",
       "      <td>26.0</td>\n",
       "    </tr>\n",
       "  </tbody>\n",
       "</table>\n",
       "</div>"
      ],
      "text/plain": [
       "        minislug  parent_id\n",
       "0            art        1.0\n",
       "1         comics        3.0\n",
       "2          dance        6.0\n",
       "3         design        7.0\n",
       "4        fashion        9.0\n",
       "5           food       10.0\n",
       "6   film & video       11.0\n",
       "7          games       12.0\n",
       "8     journalism       13.0\n",
       "9          music       14.0\n",
       "10   photography       15.0\n",
       "11    technology       16.0\n",
       "12       theater       17.0\n",
       "13    publishing       18.0\n",
       "14        crafts       26.0"
      ]
     },
     "execution_count": 188,
     "metadata": {},
     "output_type": "execute_result"
    }
   ],
   "source": [
    "# create final mapping dataframe to look at\n",
    "id_legend.drop_duplicates().reset_index(drop=True)"
   ]
  },
  {
   "cell_type": "code",
   "execution_count": 206,
   "metadata": {},
   "outputs": [
    {
     "name": "stdout",
     "output_type": "stream",
     "text": [
      "['music', 'art', 'photography', 'fashion', 'technology', 'publishing', 'games', 'food', 'theater', 'dance', 'crafts', 'journalism', 'film & video', 'comics', 'design']\n",
      "----------------------------------------------------------------------\n",
      "['music/rock', 'art/mixed media', 'photography/photobooks', 'fashion/footwear', 'technology/software', 'fashion/accessories', 'publishing/nonfiction', 'art/sculpture', 'games/playing cards', 'photography/fine art', 'food/restaurants', 'photography/nature', 'theater/festivals', 'music/classical music', 'food/small batch', 'theater/musical', 'music/country & folk', 'theater', 'theater/plays', 'fashion/apparel', 'photography', 'dance/workshops', 'music/r&b', 'music/pop', 'music', 'music/jazz', 'theater/experimental', 'art/performance art', 'photography/places', 'theater/comedy', 'photography/animals', 'music/indie rock', 'photography/people', 'fashion', 'theater/immersive', 'music/metal', 'crafts', 'theater/spaces', 'music/faith', 'fashion/pet fashion', 'fashion/jewelry', 'fashion/ready-to-wear', 'games/live games', 'fashion/couture', 'journalism/web', 'games/video games', 'publishing/art books', 'technology/hardware', 'food/farms', 'technology', 'film & video/drama', 'games/mobile games', 'games/tabletop games', 'music/electronic music', 'journalism/video', 'technology/3d printing', 'technology/diy electronics', 'publishing/radio & podcasts', 'film & video/horror', 'technology/web', 'film & video/experimental', 'journalism', 'comics/webcomics', 'journalism/print', 'journalism/audio', 'technology/space exploration', 'comics/events', 'film & video/festivals', 'technology/sound', 'technology/apps', 'technology/gadgets', 'games', 'music/comedy', 'journalism/photo', 'games/puzzles', 'crafts/candles', 'fashion/childrenswear', 'design/graphic design', 'comics/anthologies', 'film & video/narrative film', 'dance/performances', 'crafts/taxidermy', 'design/civic design', 'film & video/television', 'technology/camera equipment', 'crafts/printing', 'technology/robots', 'technology/wearables', 'art/video art', 'publishing/literary spaces', 'film & video/shorts', 'film & video/science fiction', 'art/public art', 'comics/comic books', 'publishing/fiction', 'dance', 'publishing/calendars', 'comics', 'dance/spaces', 'dance/residencies', 'film & video/family', 'technology/flight', 'crafts/embroidery', 'design/interactive design', 'music/hip-hop', 'publishing/academic', 'publishing/anthologies', \"publishing/children's books\", 'design/product design', 'art/illustration', 'art/conceptual art', 'food/cookbooks', 'music/latin', 'food', 'film & video/action', 'art/ceramics', 'film & video/music videos', 'music/world music', 'food/community gardens', 'publishing/comedy', 'film & video/fantasy', 'food/food trucks', 'film & video/thrillers', 'film & video/movie theaters', 'film & video/romance', 'art/digital art', 'design/typography', 'food/drinks', 'crafts/stationery', 'design', 'art', 'food/vegan', 'crafts/crochet', \"food/farmer's markets\", 'food/events', 'food/spaces', 'comics/graphic novels', 'publishing/poetry', 'film & video/documentary', 'publishing/translations', 'art/installations', 'music/chiptune', 'publishing/zines', 'crafts/pottery', 'art/painting', 'film & video/webseries', 'technology/makerspaces', 'film & video/comedy', 'publishing', 'publishing/letterpress', 'publishing/literary journals', 'art/textiles', 'music/punk', 'technology/fabrication tools', 'food/bacon', 'publishing/young adult', 'publishing/periodicals', 'crafts/woodworking', 'film & video/animation', 'crafts/diy', 'design/architecture', 'crafts/glass', 'music/blues', 'games/gaming hardware', 'film & video', 'music/kids', 'crafts/knitting', 'crafts/weaving', 'crafts/quilts']\n"
     ]
    }
   ],
   "source": [
    "print(top_categories)\n",
    "print(\"-------\"*10)\n",
    "print (full_categories)"
   ]
  },
  {
   "cell_type": "markdown",
   "metadata": {},
   "source": [
    "besides using the top category - it might be worth to also look at the full category (the slug). The slug are more unique values but we might be able to say more precisely which category correlates with successful projects."
   ]
  },
  {
   "cell_type": "markdown",
   "metadata": {},
   "source": [
    "#### Creating columns for top level categories and their IDs"
   ]
  },
  {
   "cell_type": "code",
   "execution_count": 190,
   "metadata": {},
   "outputs": [],
   "source": [
    "# create column top_cat using the minislug\n",
    "merged_df[\"top_cat\"] = [json_column.slug[i].split('/')[0] for i in range(len(json_column))]\n"
   ]
  },
  {
   "cell_type": "code",
   "execution_count": 191,
   "metadata": {},
   "outputs": [],
   "source": [
    "def get_top_cat_id(x):\n",
    "    cat = x['top_cat']\n",
    "    if (cat == 'art'):\n",
    "        return 1.0\n",
    "    elif (cat == 'comics'):\n",
    "\t    return 3.0\n",
    "    elif (cat == 'dance'):\n",
    "        return 6.0\n",
    "    elif (cat == 'design'):\n",
    "        return 7.0\n",
    "    elif (cat == 'fashion'):\n",
    "        return 9.0\n",
    "    elif (cat == 'food'):\n",
    "        return 10.0\n",
    "    elif (cat == 'film & video'):\n",
    "        return 11.0\n",
    "    elif (cat == 'games'):\n",
    "        return 12.0\n",
    "    elif (cat == 'journalism'):\n",
    "        return 13.0\n",
    "    elif (cat == 'music'):\n",
    "        return 14.0\n",
    "    elif (cat == 'photography'):\n",
    "        return 15.0\n",
    "    elif (cat == 'technology'):\n",
    "        return 16.0\n",
    "    elif (cat == 'theater'):\n",
    "        return 17.0\n",
    "    elif (cat == 'publishing'):\n",
    "        return 18.0\n",
    "    elif (cat == 'crafts'):\n",
    "        return 26.0\n",
    "\n",
    "merged_df[\"top_cat_id\"] = np.nan\n",
    "merged_df[\"top_cat_id\"]= merged_df.apply(get_top_cat_id, axis=1)"
   ]
  },
  {
   "cell_type": "code",
   "execution_count": 197,
   "metadata": {},
   "outputs": [
    {
     "name": "stdout",
     "output_type": "stream",
     "text": [
      "            top_cat  top_cat_id\n",
      "0             music        14.0\n",
      "1               art         1.0\n",
      "2       photography        15.0\n",
      "3           fashion         9.0\n",
      "4        technology        16.0\n",
      "...             ...         ...\n",
      "209217         food        10.0\n",
      "209218         food        10.0\n",
      "209219      fashion         9.0\n",
      "209220   publishing        18.0\n",
      "209221          art         1.0\n",
      "\n",
      "[209222 rows x 2 columns]\n"
     ]
    }
   ],
   "source": [
    "print(merged_df[[\"top_cat\", \"top_cat_id\"]])\n"
   ]
  },
  {
   "cell_type": "markdown",
   "metadata": {},
   "source": [
    "#### pledged column\n"
   ]
  },
  {
   "cell_type": "code",
   "execution_count": 192,
   "metadata": {},
   "outputs": [
    {
     "name": "stdout",
     "output_type": "stream",
     "text": [
      "<class 'pandas.core.frame.DataFrame'>\n",
      "RangeIndex: 209222 entries, 0 to 209221\n",
      "Data columns (total 39 columns):\n",
      " #   Column                    Non-Null Count   Dtype  \n",
      "---  ------                    --------------   -----  \n",
      " 0   backers_count             209222 non-null  int64  \n",
      " 1   blurb                     209214 non-null  object \n",
      " 2   category                  209222 non-null  object \n",
      " 3   converted_pledged_amount  209222 non-null  int64  \n",
      " 4   country                   209222 non-null  object \n",
      " 5   created_at                209222 non-null  int64  \n",
      " 6   creator                   209222 non-null  object \n",
      " 7   currency                  209222 non-null  object \n",
      " 8   currency_symbol           209222 non-null  object \n",
      " 9   currency_trailing_code    209222 non-null  bool   \n",
      " 10  current_currency          209222 non-null  object \n",
      " 11  deadline                  209222 non-null  int64  \n",
      " 12  disable_communication     209222 non-null  bool   \n",
      " 13  friends                   300 non-null     object \n",
      " 14  fx_rate                   209222 non-null  float64\n",
      " 15  goal                      209222 non-null  float64\n",
      " 16  id                        209222 non-null  int64  \n",
      " 17  is_backing                300 non-null     object \n",
      " 18  is_starrable              209222 non-null  bool   \n",
      " 19  is_starred                300 non-null     object \n",
      " 20  launched_at               209222 non-null  int64  \n",
      " 21  location                  208996 non-null  object \n",
      " 22  name                      209222 non-null  object \n",
      " 23  permissions               300 non-null     object \n",
      " 24  photo                     209222 non-null  object \n",
      " 25  pledged                   209222 non-null  float64\n",
      " 26  profile                   209222 non-null  object \n",
      " 27  slug                      209222 non-null  object \n",
      " 28  source_url                209222 non-null  object \n",
      " 29  spotlight                 209222 non-null  bool   \n",
      " 30  staff_pick                209222 non-null  bool   \n",
      " 31  state                     209222 non-null  object \n",
      " 32  state_changed_at          209222 non-null  int64  \n",
      " 33  static_usd_rate           209222 non-null  float64\n",
      " 34  urls                      209222 non-null  object \n",
      " 35  usd_pledged               209222 non-null  float64\n",
      " 36  usd_type                  208742 non-null  object \n",
      " 37  top_cat                   209222 non-null  object \n",
      " 38  top_cat_id                209222 non-null  float64\n",
      "dtypes: bool(5), float64(6), int64(7), object(21)\n",
      "memory usage: 55.3+ MB\n"
     ]
    }
   ],
   "source": [
    "merged_df.info()"
   ]
  },
  {
   "cell_type": "code",
   "execution_count": 202,
   "metadata": {},
   "outputs": [
    {
     "data": {
      "text/plain": [
       "Index(['backers_count', 'blurb', 'category', 'converted_pledged_amount',\n",
       "       'country', 'created_at', 'creator', 'currency', 'currency_symbol',\n",
       "       'currency_trailing_code', 'current_currency', 'deadline',\n",
       "       'disable_communication', 'friends', 'fx_rate', 'goal', 'id',\n",
       "       'is_backing', 'is_starrable', 'is_starred', 'launched_at', 'location',\n",
       "       'name', 'permissions', 'photo', 'pledged', 'profile', 'slug',\n",
       "       'source_url', 'spotlight', 'staff_pick', 'state', 'state_changed_at',\n",
       "       'static_usd_rate', 'urls', 'usd_pledged', 'usd_type', 'top_cat',\n",
       "       'top_cat_id'],\n",
       "      dtype='object')"
      ]
     },
     "execution_count": 202,
     "metadata": {},
     "output_type": "execute_result"
    }
   ],
   "source": [
    "merged_df.columns\n",
    "# there is no column \"usd pledge real\" that was converted by fixer.io"
   ]
  },
  {
   "cell_type": "markdown",
   "metadata": {},
   "source": [
    "compare the currencies to decide if pledged needs to be converted"
   ]
  },
  {
   "cell_type": "code",
   "execution_count": 224,
   "metadata": {},
   "outputs": [
    {
     "data": {
      "text/html": [
       "<div>\n",
       "<style scoped>\n",
       "    .dataframe tbody tr th:only-of-type {\n",
       "        vertical-align: middle;\n",
       "    }\n",
       "\n",
       "    .dataframe tbody tr th {\n",
       "        vertical-align: top;\n",
       "    }\n",
       "\n",
       "    .dataframe thead th {\n",
       "        text-align: right;\n",
       "    }\n",
       "</style>\n",
       "<table border=\"1\" class=\"dataframe\">\n",
       "  <thead>\n",
       "    <tr style=\"text-align: right;\">\n",
       "      <th></th>\n",
       "      <th>state</th>\n",
       "      <th>goal</th>\n",
       "      <th>calc_goal_usd</th>\n",
       "      <th>pledged</th>\n",
       "      <th>converted_pledged_amount</th>\n",
       "      <th>usd_pledged</th>\n",
       "      <th>current_currency</th>\n",
       "      <th>currency</th>\n",
       "      <th>fx_rate</th>\n",
       "      <th>country</th>\n",
       "    </tr>\n",
       "  </thead>\n",
       "  <tbody>\n",
       "    <tr>\n",
       "      <th>0</th>\n",
       "      <td>successful</td>\n",
       "      <td>200.0</td>\n",
       "      <td>200.000000</td>\n",
       "      <td>802.0</td>\n",
       "      <td>802</td>\n",
       "      <td>802.000000</td>\n",
       "      <td>USD</td>\n",
       "      <td>USD</td>\n",
       "      <td>1.000000</td>\n",
       "      <td>US</td>\n",
       "    </tr>\n",
       "    <tr>\n",
       "      <th>1</th>\n",
       "      <td>successful</td>\n",
       "      <td>400.0</td>\n",
       "      <td>400.000000</td>\n",
       "      <td>2259.0</td>\n",
       "      <td>2259</td>\n",
       "      <td>2259.000000</td>\n",
       "      <td>USD</td>\n",
       "      <td>USD</td>\n",
       "      <td>1.000000</td>\n",
       "      <td>US</td>\n",
       "    </tr>\n",
       "    <tr>\n",
       "      <th>2</th>\n",
       "      <td>successful</td>\n",
       "      <td>27224.0</td>\n",
       "      <td>27224.000000</td>\n",
       "      <td>29638.0</td>\n",
       "      <td>29638</td>\n",
       "      <td>29638.000000</td>\n",
       "      <td>USD</td>\n",
       "      <td>USD</td>\n",
       "      <td>1.000000</td>\n",
       "      <td>US</td>\n",
       "    </tr>\n",
       "    <tr>\n",
       "      <th>3</th>\n",
       "      <td>successful</td>\n",
       "      <td>40000.0</td>\n",
       "      <td>45137.302000</td>\n",
       "      <td>43180.0</td>\n",
       "      <td>49158</td>\n",
       "      <td>49075.152520</td>\n",
       "      <td>USD</td>\n",
       "      <td>EUR</td>\n",
       "      <td>1.128433</td>\n",
       "      <td>IT</td>\n",
       "    </tr>\n",
       "    <tr>\n",
       "      <th>5</th>\n",
       "      <td>successful</td>\n",
       "      <td>400.0</td>\n",
       "      <td>523.357444</td>\n",
       "      <td>1509.0</td>\n",
       "      <td>2117</td>\n",
       "      <td>2141.826071</td>\n",
       "      <td>USD</td>\n",
       "      <td>GBP</td>\n",
       "      <td>1.308394</td>\n",
       "      <td>GB</td>\n",
       "    </tr>\n",
       "    <tr>\n",
       "      <th>...</th>\n",
       "      <td>...</td>\n",
       "      <td>...</td>\n",
       "      <td>...</td>\n",
       "      <td>...</td>\n",
       "      <td>...</td>\n",
       "      <td>...</td>\n",
       "      <td>...</td>\n",
       "      <td>...</td>\n",
       "      <td>...</td>\n",
       "      <td>...</td>\n",
       "    </tr>\n",
       "    <tr>\n",
       "      <th>209212</th>\n",
       "      <td>successful</td>\n",
       "      <td>35000.0</td>\n",
       "      <td>35000.000000</td>\n",
       "      <td>37835.0</td>\n",
       "      <td>37835</td>\n",
       "      <td>37835.000000</td>\n",
       "      <td>USD</td>\n",
       "      <td>USD</td>\n",
       "      <td>1.000000</td>\n",
       "      <td>US</td>\n",
       "    </tr>\n",
       "    <tr>\n",
       "      <th>209215</th>\n",
       "      <td>successful</td>\n",
       "      <td>17486.0</td>\n",
       "      <td>17486.000000</td>\n",
       "      <td>18608.0</td>\n",
       "      <td>18608</td>\n",
       "      <td>18608.000000</td>\n",
       "      <td>USD</td>\n",
       "      <td>USD</td>\n",
       "      <td>1.000000</td>\n",
       "      <td>US</td>\n",
       "    </tr>\n",
       "    <tr>\n",
       "      <th>209217</th>\n",
       "      <td>successful</td>\n",
       "      <td>10000.0</td>\n",
       "      <td>10000.000000</td>\n",
       "      <td>10320.0</td>\n",
       "      <td>10320</td>\n",
       "      <td>10320.000000</td>\n",
       "      <td>USD</td>\n",
       "      <td>USD</td>\n",
       "      <td>1.000000</td>\n",
       "      <td>US</td>\n",
       "    </tr>\n",
       "    <tr>\n",
       "      <th>209220</th>\n",
       "      <td>successful</td>\n",
       "      <td>1000.0</td>\n",
       "      <td>1000.000000</td>\n",
       "      <td>1400.0</td>\n",
       "      <td>1400</td>\n",
       "      <td>1400.000000</td>\n",
       "      <td>USD</td>\n",
       "      <td>USD</td>\n",
       "      <td>1.000000</td>\n",
       "      <td>US</td>\n",
       "    </tr>\n",
       "    <tr>\n",
       "      <th>209221</th>\n",
       "      <td>successful</td>\n",
       "      <td>3000.0</td>\n",
       "      <td>3977.039220</td>\n",
       "      <td>3670.0</td>\n",
       "      <td>4867</td>\n",
       "      <td>5118.799367</td>\n",
       "      <td>USD</td>\n",
       "      <td>GBP</td>\n",
       "      <td>1.325680</td>\n",
       "      <td>GB</td>\n",
       "    </tr>\n",
       "  </tbody>\n",
       "</table>\n",
       "<p>117465 rows × 10 columns</p>\n",
       "</div>"
      ],
      "text/plain": [
       "             state     goal  calc_goal_usd  pledged  converted_pledged_amount  \\\n",
       "0       successful    200.0     200.000000    802.0                       802   \n",
       "1       successful    400.0     400.000000   2259.0                      2259   \n",
       "2       successful  27224.0   27224.000000  29638.0                     29638   \n",
       "3       successful  40000.0   45137.302000  43180.0                     49158   \n",
       "5       successful    400.0     523.357444   1509.0                      2117   \n",
       "...            ...      ...            ...      ...                       ...   \n",
       "209212  successful  35000.0   35000.000000  37835.0                     37835   \n",
       "209215  successful  17486.0   17486.000000  18608.0                     18608   \n",
       "209217  successful  10000.0   10000.000000  10320.0                     10320   \n",
       "209220  successful   1000.0    1000.000000   1400.0                      1400   \n",
       "209221  successful   3000.0    3977.039220   3670.0                      4867   \n",
       "\n",
       "         usd_pledged current_currency currency   fx_rate country  \n",
       "0         802.000000              USD      USD  1.000000      US  \n",
       "1        2259.000000              USD      USD  1.000000      US  \n",
       "2       29638.000000              USD      USD  1.000000      US  \n",
       "3       49075.152520              USD      EUR  1.128433      IT  \n",
       "5        2141.826071              USD      GBP  1.308394      GB  \n",
       "...              ...              ...      ...       ...     ...  \n",
       "209212  37835.000000              USD      USD  1.000000      US  \n",
       "209215  18608.000000              USD      USD  1.000000      US  \n",
       "209217  10320.000000              USD      USD  1.000000      US  \n",
       "209220   1400.000000              USD      USD  1.000000      US  \n",
       "209221   5118.799367              USD      GBP  1.325680      GB  \n",
       "\n",
       "[117465 rows x 10 columns]"
      ]
     },
     "execution_count": 224,
     "metadata": {},
     "output_type": "execute_result"
    }
   ],
   "source": [
    "merged_df[merged_df[\"state\"] == \"successful\"][[\"state\", \"goal\", \"calc_goal_usd\", \"pledged\", \"converted_pledged_amount\", \"usd_pledged\", \"current_currency\", \"currency\", \"fx_rate\", \"country\"]]"
   ]
  },
  {
   "cell_type": "markdown",
   "metadata": {},
   "source": [
    "Looking at \"pledged\" in different convertions (converted_pledged_amount, usd_pledged) none of those convertions are matching the exchange rate (fx_rate).\n",
    "To stay consistent we are going to convert pledged with the fx_rate as we did with goal.\n",
    "\n",
    "**creating new column calc_pledged_usd** "
   ]
  },
  {
   "cell_type": "code",
   "execution_count": 225,
   "metadata": {},
   "outputs": [],
   "source": [
    "merged_df[\"calc_pledged_usd\"] = merged_df[\"pledged\"] * merged_df[\"fx_rate\"]"
   ]
  },
  {
   "cell_type": "code",
   "execution_count": 223,
   "metadata": {},
   "outputs": [],
   "source": [
    "# to be deleted later....\n",
    "#merged_df.drop([\"calc_usd\"], axis=1, inplace=True)"
   ]
  },
  {
   "cell_type": "code",
   "execution_count": 226,
   "metadata": {},
   "outputs": [
    {
     "data": {
      "text/html": [
       "<div>\n",
       "<style scoped>\n",
       "    .dataframe tbody tr th:only-of-type {\n",
       "        vertical-align: middle;\n",
       "    }\n",
       "\n",
       "    .dataframe tbody tr th {\n",
       "        vertical-align: top;\n",
       "    }\n",
       "\n",
       "    .dataframe thead th {\n",
       "        text-align: right;\n",
       "    }\n",
       "</style>\n",
       "<table border=\"1\" class=\"dataframe\">\n",
       "  <thead>\n",
       "    <tr style=\"text-align: right;\">\n",
       "      <th></th>\n",
       "      <th>state</th>\n",
       "      <th>goal</th>\n",
       "      <th>calc_goal_usd</th>\n",
       "      <th>pledged</th>\n",
       "      <th>calc_pledged_usd</th>\n",
       "    </tr>\n",
       "  </thead>\n",
       "  <tbody>\n",
       "    <tr>\n",
       "      <th>0</th>\n",
       "      <td>successful</td>\n",
       "      <td>200.0</td>\n",
       "      <td>200.000000</td>\n",
       "      <td>802.0</td>\n",
       "      <td>802.000000</td>\n",
       "    </tr>\n",
       "    <tr>\n",
       "      <th>1</th>\n",
       "      <td>successful</td>\n",
       "      <td>400.0</td>\n",
       "      <td>400.000000</td>\n",
       "      <td>2259.0</td>\n",
       "      <td>2259.000000</td>\n",
       "    </tr>\n",
       "    <tr>\n",
       "      <th>2</th>\n",
       "      <td>successful</td>\n",
       "      <td>27224.0</td>\n",
       "      <td>27224.000000</td>\n",
       "      <td>29638.0</td>\n",
       "      <td>29638.000000</td>\n",
       "    </tr>\n",
       "    <tr>\n",
       "      <th>3</th>\n",
       "      <td>successful</td>\n",
       "      <td>40000.0</td>\n",
       "      <td>45137.302000</td>\n",
       "      <td>43180.0</td>\n",
       "      <td>48725.717509</td>\n",
       "    </tr>\n",
       "    <tr>\n",
       "      <th>5</th>\n",
       "      <td>successful</td>\n",
       "      <td>400.0</td>\n",
       "      <td>523.357444</td>\n",
       "      <td>1509.0</td>\n",
       "      <td>1974.365957</td>\n",
       "    </tr>\n",
       "    <tr>\n",
       "      <th>...</th>\n",
       "      <td>...</td>\n",
       "      <td>...</td>\n",
       "      <td>...</td>\n",
       "      <td>...</td>\n",
       "      <td>...</td>\n",
       "    </tr>\n",
       "    <tr>\n",
       "      <th>209212</th>\n",
       "      <td>successful</td>\n",
       "      <td>35000.0</td>\n",
       "      <td>35000.000000</td>\n",
       "      <td>37835.0</td>\n",
       "      <td>37835.000000</td>\n",
       "    </tr>\n",
       "    <tr>\n",
       "      <th>209215</th>\n",
       "      <td>successful</td>\n",
       "      <td>17486.0</td>\n",
       "      <td>17486.000000</td>\n",
       "      <td>18608.0</td>\n",
       "      <td>18608.000000</td>\n",
       "    </tr>\n",
       "    <tr>\n",
       "      <th>209217</th>\n",
       "      <td>successful</td>\n",
       "      <td>10000.0</td>\n",
       "      <td>10000.000000</td>\n",
       "      <td>10320.0</td>\n",
       "      <td>10320.000000</td>\n",
       "    </tr>\n",
       "    <tr>\n",
       "      <th>209220</th>\n",
       "      <td>successful</td>\n",
       "      <td>1000.0</td>\n",
       "      <td>1000.000000</td>\n",
       "      <td>1400.0</td>\n",
       "      <td>1400.000000</td>\n",
       "    </tr>\n",
       "    <tr>\n",
       "      <th>209221</th>\n",
       "      <td>successful</td>\n",
       "      <td>3000.0</td>\n",
       "      <td>3977.039220</td>\n",
       "      <td>3670.0</td>\n",
       "      <td>4865.244646</td>\n",
       "    </tr>\n",
       "  </tbody>\n",
       "</table>\n",
       "<p>117465 rows × 5 columns</p>\n",
       "</div>"
      ],
      "text/plain": [
       "             state     goal  calc_goal_usd  pledged  calc_pledged_usd\n",
       "0       successful    200.0     200.000000    802.0        802.000000\n",
       "1       successful    400.0     400.000000   2259.0       2259.000000\n",
       "2       successful  27224.0   27224.000000  29638.0      29638.000000\n",
       "3       successful  40000.0   45137.302000  43180.0      48725.717509\n",
       "5       successful    400.0     523.357444   1509.0       1974.365957\n",
       "...            ...      ...            ...      ...               ...\n",
       "209212  successful  35000.0   35000.000000  37835.0      37835.000000\n",
       "209215  successful  17486.0   17486.000000  18608.0      18608.000000\n",
       "209217  successful  10000.0   10000.000000  10320.0      10320.000000\n",
       "209220  successful   1000.0    1000.000000   1400.0       1400.000000\n",
       "209221  successful   3000.0    3977.039220   3670.0       4865.244646\n",
       "\n",
       "[117465 rows x 5 columns]"
      ]
     },
     "execution_count": 226,
     "metadata": {},
     "output_type": "execute_result"
    }
   ],
   "source": [
    "merged_df[merged_df[\"state\"] == \"successful\"][[\"state\", \"goal\", \"calc_goal_usd\", \"pledged\", \"calc_pledged_usd\"]]"
   ]
  }
 ],
 "metadata": {
  "kernelspec": {
   "display_name": "Python 3.9.8 ('.venv': venv)",
   "language": "python",
   "name": "python3"
  },
  "language_info": {
   "codemirror_mode": {
    "name": "ipython",
    "version": 3
   },
   "file_extension": ".py",
   "mimetype": "text/x-python",
   "name": "python",
   "nbconvert_exporter": "python",
   "pygments_lexer": "ipython3",
   "version": "3.9.8"
  },
  "vscode": {
   "interpreter": {
    "hash": "c26d8eb4aadf14691cb9b7255d008a6f273f12a7a9383328a7b44136995f71c4"
   }
  }
 },
 "nbformat": 4,
 "nbformat_minor": 4
}
