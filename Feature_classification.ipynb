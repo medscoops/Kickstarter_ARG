{
 "cells": [
  {
   "cell_type": "markdown",
   "metadata": {},
   "source": [
    "<span style='color:green;'>\n",
    "POTENTIAL TARGET INFORMATION<br>\n",
    "<b>state:                   successful, failed, cancelled, live or suspended</b><br>\n",
    "state_changed_at:              State changed when campaign went to success or failure<br>\n",
    "</span>"
   ]
  },
  {
   "cell_type": "markdown",
   "metadata": {},
   "source": [
    "<span style='color:orange;'>\n",
    "NON-TARGET FUTURE INFORMATION<br>\n",
    "backers_count:              Total number of people who backed the project. \"future information\". potential target proxy.<br>\n",
    "</span>"
   ]
  },
  {
   "cell_type": "markdown",
   "metadata": {},
   "source": [
    "<span style='color:green;'>\n",
    "POTENTIAL PREDICTORS<br>\n",
    "<b>goal - (quantitative):   Amount of money that a creator needs to complete their project</b><br>\n",
    "fx_rate - (quantitative):   Exchange rate from currency into US dollars <br>\n",
    "currency - (categorical):   Currency<br>\n",
    "pledged:                    Amount of money that a project has raised<br>\n",
    "converted_pledged_amount:    Amount of money pledged at the end of the campaign. \"future information\". Useful to compute proportion of the goal pledged (1:1 correlation with predicted probabilities).<br>\n",
    "usd_pledged:                conversion in US dollars of the pledged column (conversion done by kickstarter).<br>\n",
    "usd pledge real:            conversion in US dollars of the pledged column (conversion from Fixer.io API).<br>\n",
    "usd goal real:              conversion in US dollars of the goal column (conversion from Fixer.io API).<br>\n",
    "created_at - (datetime):    Time the project was created at.<br>\n",
    "launched_at - (datetime):   Time the project was launched at.<br>\n",
    "deadline - (datetime):      Deadline given for successful funding.<br>\n",
    "is_starrable:               How successful Kickstarter believes the campaign will be.<br>\n",
    "spotlight:                  How successful Kickstarter believes the campaign will be.<br>\n",
    "staff_pick:                 How successful Kickstarter believes the campaign will be.<br>\n",
    "</span>"
   ]
  },
  {
   "cell_type": "markdown",
   "metadata": {},
   "source": [
    "<span style='color:red;'>\n",
    "TOO HUGE QUALITY ISSUES<br>\n",
    "last_update_published_at:   empty.<br>\n",
    "unread_message_count:       empty.<br>\n",
    "unseen_activity_count:      empty.<br>\n",
    "friends:                    99% empty.<br>\n",
    "is_backing:                 99% empty<br>\n",
    "Permissions:                99% empty<br>\n",
    "disabled_communication:     False for all campaigns that have ended.<br>\n",
    "</span>"
   ]
  },
  {
   "cell_type": "markdown",
   "metadata": {},
   "source": [
    "<span style='color:red;'>\n",
    "UNIQUE IDENTIFIERS<br>\n",
    "id:                         Unique identifier for the campaign.<br>\n",
    "name:                       Name of project on Kickstarter.<br>\n",
    "slug:                       Redundant with name.<br>\n",
    "creator\n",
    "creator_name:               Unnecessary information.<br>\n",
    "creator_slug:               Unnecessary information.<br>\n",
    "URL:                        This is not needed for model building.<br>\n",
    "source_url:                 This is not needed for model building.<br>\n",
    "blurb:                      the short description displayed under the name of your project and on the browse page<<br>\n",
    "city - (categorical):<br>\n",
    "country loc - (categorical):<br>\n",
    "state loc - (categorical):<br>\n",
    "country<br>\n",
    "location<br>\n",
    "</span>"
   ]
  },
  {
   "cell_type": "markdown",
   "metadata": {},
   "source": [
    "<span style='color:red;'>\n",
    "REDUNDANT INFORMATION<br>\n",
    "currency_symbol:            Redundant with the currency feature.<br>\n",
    "currency_trailing_code:     Redundant with the currency feature.<br>\n",
    "current_currency:           Redundant with the currency column.<br>\n",
    "usd_pleged:                 Redundant with the currency column.<br>\n",
    "country:                    Redundant with the currency column (does not actually reflect where the campaign is.<br>\n",
    "</span>"
   ]
  },
  {
   "cell_type": "markdown",
   "metadata": {},
   "source": [
    "TO CLARIFY<br>\n",
    "Backers:        people that have supported it at the point of the API pull (what is the API pull?)<br>\n",
    "sub category - (categorical):       <br>\n",
    "overall category - (categorical):   <br>\n",
    "blurb:                      Short description of the project. We created a new column (blurb count) and will drop this feature.<br>\n",
    "category:                           <br>\n",
    "is_backing<br>\n",
    "is_starred<br>\n",
    "permissions<br>\n",
    "photo<br>\n",
    "profile<br>\n",
    "static_usd_rate<br>\n",
    "urls<br>\n",
    "usd_type<br>"
   ]
  },
  {
   "cell_type": "markdown",
   "metadata": {},
   "source": [
    "<strike>Project:        a finite work with a clear goal that you’d like to bring to life (aka campaign)</strike><br>\n",
    "\n",
    "<br>\n",
    "<strike>Other attributes in this dataset: country, category</strike>, <b>currency</b><br>\n",
    "<br>\n",
    "To attain a deeper understanding of our data and to have more attributes to explore, we also created the following features out of the data for our analysis:\n",
    "Name and blurb (description) length including and excluding “stop words” - namelenclean, blurblenclean\n",
    "Day of week and hour of the day for creation, launch and deadline date - deadlineweekday, createdatweekday, lauchedatweekday, deadlinehour, createdathour, launchedathour\n",
    "Days between creation and launch, and days between launch and deadline - createtolaunch, launchtodeadline\n",
    "<br>\n"
   ]
  },
  {
   "cell_type": "markdown",
   "metadata": {},
   "source": [
    "CODEBOOK\n",
    "backers_count                   How many backers (= investors) the project has - at the - end\n",
    "blurb                           Short description of the project\n",
    "category                        Category of the product that needs funding\n",
    "converted_pledged_amount        Part of the required money that is acquired\n",
    "country                         Home country of the creator\n",
    "created_at                      Creation date as time string\n",
    "creator                         Dictionary\n",
    "    id                          1495925645\n",
    "    name                        Daniel\n",
    "    is_registered\"\":null,\"\"chosen_currency\"\":null,\"\"avatar\"\":{\"\"thumb\"\":\"\"https://ksr-ugc.imgix.net/assets/006/041/047/c44d1a95c2139ae46af635c7c6e7ea76_original.jpg?ixlib=rb-1.1.0&w=40&h=40&fit=crop&v=1461362658&auto=format&frame=1&q=92&s=3d655afafac9dbb59c1e675adfa87082\"\",\"\"small\"\":\"\"https://ksr-ugc.imgix.net/assets/006/041/047/c44d1a95c2139ae46af635c7c6e7ea76_original.jpg?ixlib=rb-1.1.0&w=160&h=160&fit=crop&v=1461362658&auto=format&frame=1&q=92&s=3973d24f5c3db1ed1d5c84cec8af1d6d\"\",\"\"medium\"\":\"\"https://ksr-ugc.imgix.net/assets/006/041/047/c44d1a95c2139ae46af635c7c6e7ea76_original.jpg?ixlib=rb-1.1.0&w=160&h=160&fit=crop&v=1461362658&auto=format&frame=1&q=92&s=3973d24f5c3db1ed1d5c84cec8af1d6d\"\"},\"\"urls\"\":{\"\"web\"\":{\"\"user\"\":\"\"https://www.kickstarter.com/profile/1495925645\"\"},\"\"api\"\":{\"\"user\"\":\"\"https://api.kickstarter.com/v1/users/1495925645?signature=1552621462.382152be8688b069cea0ab5f3a266a1530d83c3f\"\"}}}\"\n",
    "    \n",
    "    \n",
    "\n",
    "currency\n",
    "currency_symbol\n",
    "currency_trailing_code\n",
    "current_currency,deadline\n",
    "disable_communication\n",
    "friends\n",
    "fx_rate\n",
    "goal\n",
    "id\n",
    "is_backing\n",
    "is_starrable\n",
    "is_starred\n",
    "launched_at\n",
    "location\n",
    "name\n",
    "permissions\n",
    "photo\n",
    "pledged\n",
    "profile\n",
    "slug\n",
    "source_url\n",
    "spotlight\n",
    "staff_pick\n",
    "state\n",
    "state_changed_at\n",
    "static_usd_rate\n",
    "urls\n",
    "usd_pledged\n",
    "usd_type"
   ]
  },
  {
   "cell_type": "code",
   "execution_count": null,
   "metadata": {},
   "outputs": [],
   "source": []
  }
 ],
 "metadata": {
  "kernelspec": {
   "display_name": "Python 3.9.8 ('.venv': venv)",
   "language": "python",
   "name": "python3"
  },
  "language_info": {
   "name": "python",
   "version": "3.9.8"
  },
  "orig_nbformat": 4,
  "vscode": {
   "interpreter": {
    "hash": "455eecb32b9094db598605f9067839cfb326f2c067952711dc44903d053a4b82"
   }
  }
 },
 "nbformat": 4,
 "nbformat_minor": 2
}
