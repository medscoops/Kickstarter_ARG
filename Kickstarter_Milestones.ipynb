{
 "cells": [
  {
   "cell_type": "markdown",
   "metadata": {},
   "source": [
    "CODEBOOK\n",
    "backers_count                   How many backers (= investors) the project has - at the - end\n",
    "blurb                           Short description of the project\n",
    "category                        Category of the product that needs funding\n",
    "converted_pledged_amount        Part of the required money that is acquired\n",
    "country                         Home country of the creator\n",
    "created_at                      Creation date as time string\n",
    "creator                         Dictionary\n",
    "    id                          1495925645\n",
    "    name                        Daniel\n",
    "    is_registered\"\":null,\"\"chosen_currency\"\":null,\"\"avatar\"\":{\"\"thumb\"\":\"\"https://ksr-ugc.imgix.net/assets/006/041/047/c44d1a95c2139ae46af635c7c6e7ea76_original.jpg?ixlib=rb-1.1.0&w=40&h=40&fit=crop&v=1461362658&auto=format&frame=1&q=92&s=3d655afafac9dbb59c1e675adfa87082\"\",\"\"small\"\":\"\"https://ksr-ugc.imgix.net/assets/006/041/047/c44d1a95c2139ae46af635c7c6e7ea76_original.jpg?ixlib=rb-1.1.0&w=160&h=160&fit=crop&v=1461362658&auto=format&frame=1&q=92&s=3973d24f5c3db1ed1d5c84cec8af1d6d\"\",\"\"medium\"\":\"\"https://ksr-ugc.imgix.net/assets/006/041/047/c44d1a95c2139ae46af635c7c6e7ea76_original.jpg?ixlib=rb-1.1.0&w=160&h=160&fit=crop&v=1461362658&auto=format&frame=1&q=92&s=3973d24f5c3db1ed1d5c84cec8af1d6d\"\"},\"\"urls\"\":{\"\"web\"\":{\"\"user\"\":\"\"https://www.kickstarter.com/profile/1495925645\"\"},\"\"api\"\":{\"\"user\"\":\"\"https://api.kickstarter.com/v1/users/1495925645?signature=1552621462.382152be8688b069cea0ab5f3a266a1530d83c3f\"\"}}}\"\n",
    "    \n",
    "    \n",
    "\n",
    "currency\n",
    "currency_symbol\n",
    "currency_trailing_code\n",
    "current_currency,deadline\n",
    "disable_communication\n",
    "friends\n",
    "fx_rate\n",
    "goal\n",
    "id\n",
    "is_backing\n",
    "is_starrable\n",
    "is_starred\n",
    "launched_at\n",
    "location\n",
    "name\n",
    "permissions\n",
    "photo\n",
    "pledged\n",
    "profile\n",
    "slug\n",
    "source_url\n",
    "spotlight\n",
    "staff_pick\n",
    "state\n",
    "state_changed_at\n",
    "static_usd_rate\n",
    "urls\n",
    "usd_pledged\n",
    "usd_type"
   ]
  },
  {
   "cell_type": "code",
   "execution_count": null,
   "metadata": {},
   "outputs": [],
   "source": []
  }
 ],
 "metadata": {
  "kernelspec": {
   "display_name": "Python 3.9.8 ('.venv': venv)",
   "language": "python",
   "name": "python3"
  },
  "language_info": {
   "name": "python",
   "version": "3.9.8"
  },
  "orig_nbformat": 4,
  "vscode": {
   "interpreter": {
    "hash": "455eecb32b9094db598605f9067839cfb326f2c067952711dc44903d053a4b82"
   }
  }
 },
 "nbformat": 4,
 "nbformat_minor": 2
}
